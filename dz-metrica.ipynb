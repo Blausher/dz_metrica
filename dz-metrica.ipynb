{
 "cells": [
  {
   "cell_type": "markdown",
   "id": "87e9e6da",
   "metadata": {},
   "source": [
    "[Датасет, использованный в исследовании](https://www.kaggle.com/datasets/lepchenkov/usedcarscatalog)\n",
    "\n",
    "\n",
    "__Цель__ исследования: Проследить влияние различных характеристик машин, собранных с объявлений на сайтах по продаже машин, на цену, за которая машина продается. \n",
    "\n",
    "__Задачи:__ Провести \n",
    "\n",
    "__Актуальность__: В описании к данному датасету сказано, что он собран 2 декабря 2019 года. То есть данные достаточно свежие, и относятся к предкоронавирусному, то есть предкризисному периоду. Данные содержат типичные характеристики машин, и их цену продажи, что в теории позволит выявить закономерности присущие всем рынкам по продаже машин."
   ]
  },
  {
   "cell_type": "code",
   "execution_count": 182,
   "id": "d3922317",
   "metadata": {},
   "outputs": [],
   "source": [
    "import pandas as pd\n",
    "import numpy as np\n",
    "\n",
    "import matplotlib.pyplot as plt\n",
    "import seaborn as sns\n",
    "import scipy.stats as stats\n",
    "from scipy import stats\n",
    "import pylab"
   ]
  },
  {
   "cell_type": "code",
   "execution_count": 183,
   "id": "c0eb4768",
   "metadata": {},
   "outputs": [],
   "source": [
    "df = pd.read_csv('cars.csv')"
   ]
  },
  {
   "cell_type": "markdown",
   "id": "4649a66f",
   "metadata": {},
   "source": [
    "Cырая таблица, загруженная с Kaggle:"
   ]
  },
  {
   "cell_type": "code",
   "execution_count": 184,
   "id": "2a65a5ee",
   "metadata": {},
   "outputs": [
    {
     "data": {
      "text/html": [
       "<div>\n",
       "<style scoped>\n",
       "    .dataframe tbody tr th:only-of-type {\n",
       "        vertical-align: middle;\n",
       "    }\n",
       "\n",
       "    .dataframe tbody tr th {\n",
       "        vertical-align: top;\n",
       "    }\n",
       "\n",
       "    .dataframe thead th {\n",
       "        text-align: right;\n",
       "    }\n",
       "</style>\n",
       "<table border=\"1\" class=\"dataframe\">\n",
       "  <thead>\n",
       "    <tr style=\"text-align: right;\">\n",
       "      <th></th>\n",
       "      <th>manufacturer_name</th>\n",
       "      <th>model_name</th>\n",
       "      <th>transmission</th>\n",
       "      <th>color</th>\n",
       "      <th>odometer_value</th>\n",
       "      <th>year_produced</th>\n",
       "      <th>engine_fuel</th>\n",
       "      <th>engine_has_gas</th>\n",
       "      <th>engine_type</th>\n",
       "      <th>engine_capacity</th>\n",
       "      <th>...</th>\n",
       "      <th>feature_1</th>\n",
       "      <th>feature_2</th>\n",
       "      <th>feature_3</th>\n",
       "      <th>feature_4</th>\n",
       "      <th>feature_5</th>\n",
       "      <th>feature_6</th>\n",
       "      <th>feature_7</th>\n",
       "      <th>feature_8</th>\n",
       "      <th>feature_9</th>\n",
       "      <th>duration_listed</th>\n",
       "    </tr>\n",
       "  </thead>\n",
       "  <tbody>\n",
       "    <tr>\n",
       "      <th>0</th>\n",
       "      <td>Subaru</td>\n",
       "      <td>Outback</td>\n",
       "      <td>automatic</td>\n",
       "      <td>silver</td>\n",
       "      <td>190000</td>\n",
       "      <td>2010</td>\n",
       "      <td>gasoline</td>\n",
       "      <td>False</td>\n",
       "      <td>gasoline</td>\n",
       "      <td>2.5</td>\n",
       "      <td>...</td>\n",
       "      <td>True</td>\n",
       "      <td>True</td>\n",
       "      <td>True</td>\n",
       "      <td>False</td>\n",
       "      <td>True</td>\n",
       "      <td>False</td>\n",
       "      <td>True</td>\n",
       "      <td>True</td>\n",
       "      <td>True</td>\n",
       "      <td>16</td>\n",
       "    </tr>\n",
       "    <tr>\n",
       "      <th>1</th>\n",
       "      <td>Subaru</td>\n",
       "      <td>Outback</td>\n",
       "      <td>automatic</td>\n",
       "      <td>blue</td>\n",
       "      <td>290000</td>\n",
       "      <td>2002</td>\n",
       "      <td>gasoline</td>\n",
       "      <td>False</td>\n",
       "      <td>gasoline</td>\n",
       "      <td>3.0</td>\n",
       "      <td>...</td>\n",
       "      <td>True</td>\n",
       "      <td>False</td>\n",
       "      <td>False</td>\n",
       "      <td>True</td>\n",
       "      <td>True</td>\n",
       "      <td>False</td>\n",
       "      <td>False</td>\n",
       "      <td>False</td>\n",
       "      <td>True</td>\n",
       "      <td>83</td>\n",
       "    </tr>\n",
       "    <tr>\n",
       "      <th>2</th>\n",
       "      <td>Subaru</td>\n",
       "      <td>Forester</td>\n",
       "      <td>automatic</td>\n",
       "      <td>red</td>\n",
       "      <td>402000</td>\n",
       "      <td>2001</td>\n",
       "      <td>gasoline</td>\n",
       "      <td>False</td>\n",
       "      <td>gasoline</td>\n",
       "      <td>2.5</td>\n",
       "      <td>...</td>\n",
       "      <td>True</td>\n",
       "      <td>False</td>\n",
       "      <td>False</td>\n",
       "      <td>False</td>\n",
       "      <td>False</td>\n",
       "      <td>False</td>\n",
       "      <td>False</td>\n",
       "      <td>True</td>\n",
       "      <td>True</td>\n",
       "      <td>151</td>\n",
       "    </tr>\n",
       "    <tr>\n",
       "      <th>3</th>\n",
       "      <td>Subaru</td>\n",
       "      <td>Impreza</td>\n",
       "      <td>mechanical</td>\n",
       "      <td>blue</td>\n",
       "      <td>10000</td>\n",
       "      <td>1999</td>\n",
       "      <td>gasoline</td>\n",
       "      <td>False</td>\n",
       "      <td>gasoline</td>\n",
       "      <td>3.0</td>\n",
       "      <td>...</td>\n",
       "      <td>False</td>\n",
       "      <td>False</td>\n",
       "      <td>False</td>\n",
       "      <td>False</td>\n",
       "      <td>False</td>\n",
       "      <td>False</td>\n",
       "      <td>False</td>\n",
       "      <td>False</td>\n",
       "      <td>False</td>\n",
       "      <td>86</td>\n",
       "    </tr>\n",
       "    <tr>\n",
       "      <th>4</th>\n",
       "      <td>Subaru</td>\n",
       "      <td>Legacy</td>\n",
       "      <td>automatic</td>\n",
       "      <td>black</td>\n",
       "      <td>280000</td>\n",
       "      <td>2001</td>\n",
       "      <td>gasoline</td>\n",
       "      <td>False</td>\n",
       "      <td>gasoline</td>\n",
       "      <td>2.5</td>\n",
       "      <td>...</td>\n",
       "      <td>True</td>\n",
       "      <td>False</td>\n",
       "      <td>True</td>\n",
       "      <td>True</td>\n",
       "      <td>False</td>\n",
       "      <td>False</td>\n",
       "      <td>False</td>\n",
       "      <td>False</td>\n",
       "      <td>True</td>\n",
       "      <td>7</td>\n",
       "    </tr>\n",
       "  </tbody>\n",
       "</table>\n",
       "<p>5 rows × 30 columns</p>\n",
       "</div>"
      ],
      "text/plain": [
       "  manufacturer_name model_name transmission   color  odometer_value  \\\n",
       "0            Subaru    Outback    automatic  silver          190000   \n",
       "1            Subaru    Outback    automatic    blue          290000   \n",
       "2            Subaru   Forester    automatic     red          402000   \n",
       "3            Subaru    Impreza   mechanical    blue           10000   \n",
       "4            Subaru     Legacy    automatic   black          280000   \n",
       "\n",
       "   year_produced engine_fuel  engine_has_gas engine_type  engine_capacity  \\\n",
       "0           2010    gasoline           False    gasoline              2.5   \n",
       "1           2002    gasoline           False    gasoline              3.0   \n",
       "2           2001    gasoline           False    gasoline              2.5   \n",
       "3           1999    gasoline           False    gasoline              3.0   \n",
       "4           2001    gasoline           False    gasoline              2.5   \n",
       "\n",
       "   ... feature_1  feature_2 feature_3 feature_4  feature_5  feature_6  \\\n",
       "0  ...      True       True      True     False       True      False   \n",
       "1  ...      True      False     False      True       True      False   \n",
       "2  ...      True      False     False     False      False      False   \n",
       "3  ...     False      False     False     False      False      False   \n",
       "4  ...      True      False      True      True      False      False   \n",
       "\n",
       "  feature_7  feature_8  feature_9  duration_listed  \n",
       "0      True       True       True               16  \n",
       "1     False      False       True               83  \n",
       "2     False       True       True              151  \n",
       "3     False      False      False               86  \n",
       "4     False      False       True                7  \n",
       "\n",
       "[5 rows x 30 columns]"
      ]
     },
     "execution_count": 184,
     "metadata": {},
     "output_type": "execute_result"
    }
   ],
   "source": [
    "df.head(5) "
   ]
  },
  {
   "cell_type": "markdown",
   "id": "ee278a38",
   "metadata": {},
   "source": [
    "Убираем странные переменные:"
   ]
  },
  {
   "cell_type": "code",
   "execution_count": 185,
   "id": "a8cc8e5e",
   "metadata": {},
   "outputs": [],
   "source": [
    "df = df.drop(columns=[\"feature_0\", \"feature_1\", \"feature_2\", \"feature_3\", \"feature_4\", \"feature_5\", \"feature_6\", \"feature_7\",\n",
    "                 \"feature_8\", \"feature_9\"]) "
   ]
  },
  {
   "cell_type": "code",
   "execution_count": 186,
   "id": "41d4c95b",
   "metadata": {},
   "outputs": [
    {
     "data": {
      "text/html": [
       "<div>\n",
       "<style scoped>\n",
       "    .dataframe tbody tr th:only-of-type {\n",
       "        vertical-align: middle;\n",
       "    }\n",
       "\n",
       "    .dataframe tbody tr th {\n",
       "        vertical-align: top;\n",
       "    }\n",
       "\n",
       "    .dataframe thead th {\n",
       "        text-align: right;\n",
       "    }\n",
       "</style>\n",
       "<table border=\"1\" class=\"dataframe\">\n",
       "  <thead>\n",
       "    <tr style=\"text-align: right;\">\n",
       "      <th></th>\n",
       "      <th>manufacturer_name</th>\n",
       "      <th>model_name</th>\n",
       "      <th>transmission</th>\n",
       "      <th>color</th>\n",
       "      <th>odometer_value</th>\n",
       "      <th>year_produced</th>\n",
       "      <th>engine_fuel</th>\n",
       "      <th>engine_has_gas</th>\n",
       "      <th>engine_type</th>\n",
       "      <th>engine_capacity</th>\n",
       "      <th>body_type</th>\n",
       "      <th>has_warranty</th>\n",
       "      <th>state</th>\n",
       "      <th>drivetrain</th>\n",
       "      <th>price_usd</th>\n",
       "      <th>is_exchangeable</th>\n",
       "      <th>location_region</th>\n",
       "      <th>number_of_photos</th>\n",
       "      <th>up_counter</th>\n",
       "      <th>duration_listed</th>\n",
       "    </tr>\n",
       "  </thead>\n",
       "  <tbody>\n",
       "    <tr>\n",
       "      <th>0</th>\n",
       "      <td>Subaru</td>\n",
       "      <td>Outback</td>\n",
       "      <td>automatic</td>\n",
       "      <td>silver</td>\n",
       "      <td>190000</td>\n",
       "      <td>2010</td>\n",
       "      <td>gasoline</td>\n",
       "      <td>False</td>\n",
       "      <td>gasoline</td>\n",
       "      <td>2.5</td>\n",
       "      <td>universal</td>\n",
       "      <td>False</td>\n",
       "      <td>owned</td>\n",
       "      <td>all</td>\n",
       "      <td>10900.00</td>\n",
       "      <td>False</td>\n",
       "      <td>Минская обл.</td>\n",
       "      <td>9</td>\n",
       "      <td>13</td>\n",
       "      <td>16</td>\n",
       "    </tr>\n",
       "    <tr>\n",
       "      <th>1</th>\n",
       "      <td>Subaru</td>\n",
       "      <td>Outback</td>\n",
       "      <td>automatic</td>\n",
       "      <td>blue</td>\n",
       "      <td>290000</td>\n",
       "      <td>2002</td>\n",
       "      <td>gasoline</td>\n",
       "      <td>False</td>\n",
       "      <td>gasoline</td>\n",
       "      <td>3.0</td>\n",
       "      <td>universal</td>\n",
       "      <td>False</td>\n",
       "      <td>owned</td>\n",
       "      <td>all</td>\n",
       "      <td>5000.00</td>\n",
       "      <td>True</td>\n",
       "      <td>Минская обл.</td>\n",
       "      <td>12</td>\n",
       "      <td>54</td>\n",
       "      <td>83</td>\n",
       "    </tr>\n",
       "    <tr>\n",
       "      <th>2</th>\n",
       "      <td>Subaru</td>\n",
       "      <td>Forester</td>\n",
       "      <td>automatic</td>\n",
       "      <td>red</td>\n",
       "      <td>402000</td>\n",
       "      <td>2001</td>\n",
       "      <td>gasoline</td>\n",
       "      <td>False</td>\n",
       "      <td>gasoline</td>\n",
       "      <td>2.5</td>\n",
       "      <td>suv</td>\n",
       "      <td>False</td>\n",
       "      <td>owned</td>\n",
       "      <td>all</td>\n",
       "      <td>2800.00</td>\n",
       "      <td>True</td>\n",
       "      <td>Минская обл.</td>\n",
       "      <td>4</td>\n",
       "      <td>72</td>\n",
       "      <td>151</td>\n",
       "    </tr>\n",
       "    <tr>\n",
       "      <th>3</th>\n",
       "      <td>Subaru</td>\n",
       "      <td>Impreza</td>\n",
       "      <td>mechanical</td>\n",
       "      <td>blue</td>\n",
       "      <td>10000</td>\n",
       "      <td>1999</td>\n",
       "      <td>gasoline</td>\n",
       "      <td>False</td>\n",
       "      <td>gasoline</td>\n",
       "      <td>3.0</td>\n",
       "      <td>sedan</td>\n",
       "      <td>False</td>\n",
       "      <td>owned</td>\n",
       "      <td>all</td>\n",
       "      <td>9999.00</td>\n",
       "      <td>True</td>\n",
       "      <td>Минская обл.</td>\n",
       "      <td>9</td>\n",
       "      <td>42</td>\n",
       "      <td>86</td>\n",
       "    </tr>\n",
       "    <tr>\n",
       "      <th>4</th>\n",
       "      <td>Subaru</td>\n",
       "      <td>Legacy</td>\n",
       "      <td>automatic</td>\n",
       "      <td>black</td>\n",
       "      <td>280000</td>\n",
       "      <td>2001</td>\n",
       "      <td>gasoline</td>\n",
       "      <td>False</td>\n",
       "      <td>gasoline</td>\n",
       "      <td>2.5</td>\n",
       "      <td>universal</td>\n",
       "      <td>False</td>\n",
       "      <td>owned</td>\n",
       "      <td>all</td>\n",
       "      <td>2134.11</td>\n",
       "      <td>True</td>\n",
       "      <td>Гомельская обл.</td>\n",
       "      <td>14</td>\n",
       "      <td>7</td>\n",
       "      <td>7</td>\n",
       "    </tr>\n",
       "  </tbody>\n",
       "</table>\n",
       "</div>"
      ],
      "text/plain": [
       "  manufacturer_name model_name transmission   color  odometer_value  \\\n",
       "0            Subaru    Outback    automatic  silver          190000   \n",
       "1            Subaru    Outback    automatic    blue          290000   \n",
       "2            Subaru   Forester    automatic     red          402000   \n",
       "3            Subaru    Impreza   mechanical    blue           10000   \n",
       "4            Subaru     Legacy    automatic   black          280000   \n",
       "\n",
       "   year_produced engine_fuel  engine_has_gas engine_type  engine_capacity  \\\n",
       "0           2010    gasoline           False    gasoline              2.5   \n",
       "1           2002    gasoline           False    gasoline              3.0   \n",
       "2           2001    gasoline           False    gasoline              2.5   \n",
       "3           1999    gasoline           False    gasoline              3.0   \n",
       "4           2001    gasoline           False    gasoline              2.5   \n",
       "\n",
       "   body_type  has_warranty  state drivetrain  price_usd  is_exchangeable  \\\n",
       "0  universal         False  owned        all   10900.00            False   \n",
       "1  universal         False  owned        all    5000.00             True   \n",
       "2        suv         False  owned        all    2800.00             True   \n",
       "3      sedan         False  owned        all    9999.00             True   \n",
       "4  universal         False  owned        all    2134.11             True   \n",
       "\n",
       "   location_region  number_of_photos  up_counter  duration_listed  \n",
       "0     Минская обл.                 9          13               16  \n",
       "1     Минская обл.                12          54               83  \n",
       "2     Минская обл.                 4          72              151  \n",
       "3     Минская обл.                 9          42               86  \n",
       "4  Гомельская обл.                14           7                7  "
      ]
     },
     "execution_count": 186,
     "metadata": {},
     "output_type": "execute_result"
    }
   ],
   "source": [
    "df.head()"
   ]
  },
  {
   "cell_type": "markdown",
   "id": "a1d98c27",
   "metadata": {},
   "source": [
    "Какие закономерности могут быть в данных и какие закономерности интересно исследовать?\n",
    "    \n",
    "1. Чем больше значение переменной пробег (`odometer_value`) , тем меньше цена машины.     \n",
    "\n",
    "2. Чем старше машина (`year_produced`), тем может быть ее цена меньше, хотя совершенно не факт.\n",
    "\n",
    "3. Интересно проследить, какая зависимость цены от типа бензина, на котром ездит машина (`engine_type`). В нашем исследовании мы будем рассматривать только 2 типа - это бензин и дизель. \n",
    "\n",
    "4. Скорее всего, чем больше литраж двигателя (`engine_capacity`), тем мощнее машина, и тем дороже она будет стоить.\n",
    "\n",
    "5. Интересно как влияет на цену количество фото в объявлении (`number_of_photos`).\n",
    "\n",
    "\n",
    "__Гипотезы:__ \n",
    "\n",
    "1. Можно проверить различие между переменными `engine_fuel` и `engine_type`. Нужно ли использовать обе, потому что кажется, что можно ограничится только `engine_type`\n",
    "2. Гипотезу на совместную незначимость коэффициентов "
   ]
  },
  {
   "cell_type": "code",
   "execution_count": null,
   "id": "e8821809",
   "metadata": {},
   "outputs": [],
   "source": []
  },
  {
   "cell_type": "markdown",
   "id": "050e9441",
   "metadata": {},
   "source": [
    "Определяем категориальные и числовые переменные:"
   ]
  },
  {
   "cell_type": "code",
   "execution_count": 187,
   "id": "679327ab",
   "metadata": {},
   "outputs": [
    {
     "name": "stdout",
     "output_type": "stream",
     "text": [
      "Index(['odometer_value', 'year_produced', 'engine_capacity', 'price_usd',\n",
      "       'number_of_photos', 'up_counter', 'duration_listed'],\n",
      "      dtype='object')\n"
     ]
    },
    {
     "name": "stderr",
     "output_type": "stream",
     "text": [
      "C:\\Users\\lashm\\AppData\\Local\\Temp\\ipykernel_2296\\2934970324.py:1: DeprecationWarning: `np.int` is a deprecated alias for the builtin `int`. To silence this warning, use `int` by itself. Doing this will not modify any behavior and is safe. When replacing `np.int`, you may wish to use e.g. `np.int64` or `np.int32` to specify the precision. If you wish to review your current use, check the release note link for additional information.\n",
      "Deprecated in NumPy 1.20; for more details and guidance: https://numpy.org/devdocs/release/1.20.0-notes.html#deprecations\n",
      "  numeric_data = df.select_dtypes([np.number, np.int])\n"
     ]
    }
   ],
   "source": [
    "numeric_data = df.select_dtypes([np.number, np.int])\n",
    "numeric_features = numeric_data.columns\n",
    "print(numeric_features)"
   ]
  },
  {
   "cell_type": "code",
   "execution_count": 188,
   "id": "4238b45c",
   "metadata": {},
   "outputs": [
    {
     "name": "stdout",
     "output_type": "stream",
     "text": [
      "['manufacturer_name', 'model_name', 'transmission', 'color', 'engine_fuel', 'engine_has_gas', 'engine_type', 'body_type', 'has_warranty', 'state', 'drivetrain', 'is_exchangeable', 'location_region']\n"
     ]
    }
   ],
   "source": [
    "categorical = list(df.dtypes[(df.dtypes == \"object\") | (df.dtypes == \"bool\")].index)\n",
    "print(categorical)"
   ]
  },
  {
   "cell_type": "markdown",
   "id": "681d8814",
   "metadata": {},
   "source": [
    "Убираем почти все категориальные переменные из исследования, оставляем дамми переменные:"
   ]
  },
  {
   "cell_type": "code",
   "execution_count": 189,
   "id": "c18b0aae",
   "metadata": {},
   "outputs": [],
   "source": [
    "df = df[['odometer_value', \n",
    "    'year_produced', \n",
    "    'engine_capacity', \n",
    "    'number_of_photos', \n",
    "    'duration_listed', \n",
    "     'transmission', \n",
    "     'engine_type',\n",
    "      \"engine_fuel\", # потенциально ненужный признак\n",
    "      \"engine_has_gas\", # потенциально ненужный признак\n",
    "     'has_warranty', \n",
    "     'is_exchangeable', \n",
    "     'price_usd']] # Y - зависимая переменная"
   ]
  },
  {
   "cell_type": "code",
   "execution_count": 190,
   "id": "39996a76",
   "metadata": {},
   "outputs": [
    {
     "data": {
      "text/plain": [
       "gasoline         24065\n",
       "diesel           12872\n",
       "gas               1347\n",
       "hybrid-petrol      235\n",
       "electric            10\n",
       "hybrid-diesel        2\n",
       "Name: engine_fuel, dtype: int64"
      ]
     },
     "execution_count": 190,
     "metadata": {},
     "output_type": "execute_result"
    }
   ],
   "source": [
    "df[\"engine_fuel\"].value_counts()"
   ]
  },
  {
   "cell_type": "markdown",
   "id": "e1383aec",
   "metadata": {},
   "source": [
    "Будем рассматривать только переменные `engine_fuel`, равные gasoline или diesel"
   ]
  },
  {
   "cell_type": "code",
   "execution_count": 191,
   "id": "56650ba3",
   "metadata": {},
   "outputs": [],
   "source": [
    "df = df[(df[\"engine_fuel\"] == \"gasoline\") | (df[\"engine_fuel\"] == \"diesel\")]"
   ]
  },
  {
   "cell_type": "markdown",
   "id": "4f607b0c",
   "metadata": {},
   "source": [
    "Переменная `engine_has_gas` получается неинформативной, удаляем её:"
   ]
  },
  {
   "cell_type": "code",
   "execution_count": 192,
   "id": "63405cb5",
   "metadata": {},
   "outputs": [
    {
     "data": {
      "text/plain": [
       "False    36937\n",
       "Name: engine_has_gas, dtype: int64"
      ]
     },
     "execution_count": 192,
     "metadata": {},
     "output_type": "execute_result"
    }
   ],
   "source": [
    "df[\"engine_has_gas\"].value_counts()"
   ]
  },
  {
   "cell_type": "code",
   "execution_count": 193,
   "id": "d855e5a8",
   "metadata": {},
   "outputs": [],
   "source": [
    "df = df.drop(columns = \"engine_has_gas\")"
   ]
  },
  {
   "cell_type": "code",
   "execution_count": 194,
   "id": "163dc0b4",
   "metadata": {},
   "outputs": [
    {
     "data": {
      "text/html": [
       "<div>\n",
       "<style scoped>\n",
       "    .dataframe tbody tr th:only-of-type {\n",
       "        vertical-align: middle;\n",
       "    }\n",
       "\n",
       "    .dataframe tbody tr th {\n",
       "        vertical-align: top;\n",
       "    }\n",
       "\n",
       "    .dataframe thead th {\n",
       "        text-align: right;\n",
       "    }\n",
       "</style>\n",
       "<table border=\"1\" class=\"dataframe\">\n",
       "  <thead>\n",
       "    <tr style=\"text-align: right;\">\n",
       "      <th></th>\n",
       "      <th>odometer_value</th>\n",
       "      <th>year_produced</th>\n",
       "      <th>engine_capacity</th>\n",
       "      <th>number_of_photos</th>\n",
       "      <th>duration_listed</th>\n",
       "      <th>transmission</th>\n",
       "      <th>engine_type</th>\n",
       "      <th>engine_fuel</th>\n",
       "      <th>has_warranty</th>\n",
       "      <th>is_exchangeable</th>\n",
       "      <th>price_usd</th>\n",
       "    </tr>\n",
       "  </thead>\n",
       "  <tbody>\n",
       "    <tr>\n",
       "      <th>0</th>\n",
       "      <td>190000</td>\n",
       "      <td>2010</td>\n",
       "      <td>2.5</td>\n",
       "      <td>9</td>\n",
       "      <td>16</td>\n",
       "      <td>automatic</td>\n",
       "      <td>gasoline</td>\n",
       "      <td>gasoline</td>\n",
       "      <td>False</td>\n",
       "      <td>False</td>\n",
       "      <td>10900.00</td>\n",
       "    </tr>\n",
       "    <tr>\n",
       "      <th>1</th>\n",
       "      <td>290000</td>\n",
       "      <td>2002</td>\n",
       "      <td>3.0</td>\n",
       "      <td>12</td>\n",
       "      <td>83</td>\n",
       "      <td>automatic</td>\n",
       "      <td>gasoline</td>\n",
       "      <td>gasoline</td>\n",
       "      <td>False</td>\n",
       "      <td>True</td>\n",
       "      <td>5000.00</td>\n",
       "    </tr>\n",
       "    <tr>\n",
       "      <th>2</th>\n",
       "      <td>402000</td>\n",
       "      <td>2001</td>\n",
       "      <td>2.5</td>\n",
       "      <td>4</td>\n",
       "      <td>151</td>\n",
       "      <td>automatic</td>\n",
       "      <td>gasoline</td>\n",
       "      <td>gasoline</td>\n",
       "      <td>False</td>\n",
       "      <td>True</td>\n",
       "      <td>2800.00</td>\n",
       "    </tr>\n",
       "    <tr>\n",
       "      <th>3</th>\n",
       "      <td>10000</td>\n",
       "      <td>1999</td>\n",
       "      <td>3.0</td>\n",
       "      <td>9</td>\n",
       "      <td>86</td>\n",
       "      <td>mechanical</td>\n",
       "      <td>gasoline</td>\n",
       "      <td>gasoline</td>\n",
       "      <td>False</td>\n",
       "      <td>True</td>\n",
       "      <td>9999.00</td>\n",
       "    </tr>\n",
       "    <tr>\n",
       "      <th>4</th>\n",
       "      <td>280000</td>\n",
       "      <td>2001</td>\n",
       "      <td>2.5</td>\n",
       "      <td>14</td>\n",
       "      <td>7</td>\n",
       "      <td>automatic</td>\n",
       "      <td>gasoline</td>\n",
       "      <td>gasoline</td>\n",
       "      <td>False</td>\n",
       "      <td>True</td>\n",
       "      <td>2134.11</td>\n",
       "    </tr>\n",
       "  </tbody>\n",
       "</table>\n",
       "</div>"
      ],
      "text/plain": [
       "   odometer_value  year_produced  engine_capacity  number_of_photos  \\\n",
       "0          190000           2010              2.5                 9   \n",
       "1          290000           2002              3.0                12   \n",
       "2          402000           2001              2.5                 4   \n",
       "3           10000           1999              3.0                 9   \n",
       "4          280000           2001              2.5                14   \n",
       "\n",
       "   duration_listed transmission engine_type engine_fuel  has_warranty  \\\n",
       "0               16    automatic    gasoline    gasoline         False   \n",
       "1               83    automatic    gasoline    gasoline         False   \n",
       "2              151    automatic    gasoline    gasoline         False   \n",
       "3               86   mechanical    gasoline    gasoline         False   \n",
       "4                7    automatic    gasoline    gasoline         False   \n",
       "\n",
       "   is_exchangeable  price_usd  \n",
       "0            False   10900.00  \n",
       "1             True    5000.00  \n",
       "2             True    2800.00  \n",
       "3             True    9999.00  \n",
       "4             True    2134.11  "
      ]
     },
     "execution_count": 194,
     "metadata": {},
     "output_type": "execute_result"
    }
   ],
   "source": [
    "df.head()"
   ]
  },
  {
   "cell_type": "code",
   "execution_count": 200,
   "id": "fe8c1711",
   "metadata": {},
   "outputs": [
    {
     "data": {
      "text/plain": [
       "False    23958\n",
       "True     12979\n",
       "Name: is_exchangeable, dtype: int64"
      ]
     },
     "execution_count": 200,
     "metadata": {},
     "output_type": "execute_result"
    }
   ],
   "source": [
    "df[\"is_exchangeable\"].value_counts()"
   ]
  },
  {
   "cell_type": "markdown",
   "id": "86b631a6",
   "metadata": {},
   "source": [
    "Таким образом будем учитывать только машины, которые ездят либо на бензине, либо на дизеле в нашем исследовании"
   ]
  },
  {
   "cell_type": "markdown",
   "id": "1ea20683",
   "metadata": {},
   "source": [
    "Преобразовываем переменные `transmission`, `engine_type`, `engine_fuel`, `has_warranty`, `is_exchangeable` в дамми переменые: "
   ]
  },
  {
   "cell_type": "code",
   "execution_count": 201,
   "id": "c5fc72d0",
   "metadata": {},
   "outputs": [],
   "source": [
    "# df = df[df[\"engine_type\"] != \"electric\"]\n",
    "filt1 = (df[\"transmission\"] == \"mechanical\")\n",
    "filt2 = (df[\"transmission\"] == \"automatic\")\n",
    "\n",
    "filt3 = (df[\"has_warranty\"] == True)\n",
    "filt4 = (df[\"has_warranty\"] == False)\n",
    "\n",
    "filt5 = (df[\"is_exchangeable\"] == True)\n",
    "filt6 = (df[\"is_exchangeable\"] == False)\n",
    "\n",
    "filt7 = (df[\"engine_type\"] == \"gasoline\")\n",
    "filt8 = (df[\"engine_type\"] == \"diesel\")\n",
    "\n",
    "filt9 = (df[\"engine_fuel\"] == \"gasoline\")\n",
    "filt10 = (df[\"engine_fuel\"] == \"diesel\")\n",
    "\n",
    "\n",
    "df.loc[filt1, \"transmission\"] = 1\n",
    "df.loc[filt2, \"transmission\"] = 0\n",
    "\n",
    "df.loc[filt3, \"has_warranty\"] = 1\n",
    "df.loc[filt4, \"has_warranty\"] = 0\n",
    "\n",
    "df.loc[filt5, \"is_exchangeable\"] = 1\n",
    "df.loc[filt6, \"is_exchangeable\"] = 0\n",
    "\n",
    "df.loc[filt7, \"engine_type\"] = 1\n",
    "df.loc[filt8, \"engine_type\"] = 0\n",
    "\n",
    "df.loc[filt9, \"engine_fuel\"] = 1\n",
    "df.loc[filt10, \"engine_fuel\"] = 0"
   ]
  },
  {
   "cell_type": "code",
   "execution_count": 203,
   "id": "dc5c38ee",
   "metadata": {},
   "outputs": [
    {
     "data": {
      "text/html": [
       "<div>\n",
       "<style scoped>\n",
       "    .dataframe tbody tr th:only-of-type {\n",
       "        vertical-align: middle;\n",
       "    }\n",
       "\n",
       "    .dataframe tbody tr th {\n",
       "        vertical-align: top;\n",
       "    }\n",
       "\n",
       "    .dataframe thead th {\n",
       "        text-align: right;\n",
       "    }\n",
       "</style>\n",
       "<table border=\"1\" class=\"dataframe\">\n",
       "  <thead>\n",
       "    <tr style=\"text-align: right;\">\n",
       "      <th></th>\n",
       "      <th>odometer_value</th>\n",
       "      <th>year_produced</th>\n",
       "      <th>engine_capacity</th>\n",
       "      <th>number_of_photos</th>\n",
       "      <th>duration_listed</th>\n",
       "      <th>transmission</th>\n",
       "      <th>engine_type</th>\n",
       "      <th>engine_fuel</th>\n",
       "      <th>has_warranty</th>\n",
       "      <th>is_exchangeable</th>\n",
       "      <th>price_usd</th>\n",
       "    </tr>\n",
       "  </thead>\n",
       "  <tbody>\n",
       "    <tr>\n",
       "      <th>0</th>\n",
       "      <td>190000</td>\n",
       "      <td>2010</td>\n",
       "      <td>2.5</td>\n",
       "      <td>9</td>\n",
       "      <td>16</td>\n",
       "      <td>0</td>\n",
       "      <td>1</td>\n",
       "      <td>1</td>\n",
       "      <td>0</td>\n",
       "      <td>0</td>\n",
       "      <td>10900.00</td>\n",
       "    </tr>\n",
       "    <tr>\n",
       "      <th>1</th>\n",
       "      <td>290000</td>\n",
       "      <td>2002</td>\n",
       "      <td>3.0</td>\n",
       "      <td>12</td>\n",
       "      <td>83</td>\n",
       "      <td>0</td>\n",
       "      <td>1</td>\n",
       "      <td>1</td>\n",
       "      <td>0</td>\n",
       "      <td>1</td>\n",
       "      <td>5000.00</td>\n",
       "    </tr>\n",
       "    <tr>\n",
       "      <th>2</th>\n",
       "      <td>402000</td>\n",
       "      <td>2001</td>\n",
       "      <td>2.5</td>\n",
       "      <td>4</td>\n",
       "      <td>151</td>\n",
       "      <td>0</td>\n",
       "      <td>1</td>\n",
       "      <td>1</td>\n",
       "      <td>0</td>\n",
       "      <td>1</td>\n",
       "      <td>2800.00</td>\n",
       "    </tr>\n",
       "    <tr>\n",
       "      <th>3</th>\n",
       "      <td>10000</td>\n",
       "      <td>1999</td>\n",
       "      <td>3.0</td>\n",
       "      <td>9</td>\n",
       "      <td>86</td>\n",
       "      <td>1</td>\n",
       "      <td>1</td>\n",
       "      <td>1</td>\n",
       "      <td>0</td>\n",
       "      <td>1</td>\n",
       "      <td>9999.00</td>\n",
       "    </tr>\n",
       "    <tr>\n",
       "      <th>4</th>\n",
       "      <td>280000</td>\n",
       "      <td>2001</td>\n",
       "      <td>2.5</td>\n",
       "      <td>14</td>\n",
       "      <td>7</td>\n",
       "      <td>0</td>\n",
       "      <td>1</td>\n",
       "      <td>1</td>\n",
       "      <td>0</td>\n",
       "      <td>1</td>\n",
       "      <td>2134.11</td>\n",
       "    </tr>\n",
       "  </tbody>\n",
       "</table>\n",
       "</div>"
      ],
      "text/plain": [
       "   odometer_value  year_produced  engine_capacity  number_of_photos  \\\n",
       "0          190000           2010              2.5                 9   \n",
       "1          290000           2002              3.0                12   \n",
       "2          402000           2001              2.5                 4   \n",
       "3           10000           1999              3.0                 9   \n",
       "4          280000           2001              2.5                14   \n",
       "\n",
       "   duration_listed transmission engine_type engine_fuel has_warranty  \\\n",
       "0               16            0           1           1            0   \n",
       "1               83            0           1           1            0   \n",
       "2              151            0           1           1            0   \n",
       "3               86            1           1           1            0   \n",
       "4                7            0           1           1            0   \n",
       "\n",
       "  is_exchangeable  price_usd  \n",
       "0               0   10900.00  \n",
       "1               1    5000.00  \n",
       "2               1    2800.00  \n",
       "3               1    9999.00  \n",
       "4               1    2134.11  "
      ]
     },
     "execution_count": 203,
     "metadata": {},
     "output_type": "execute_result"
    }
   ],
   "source": [
    "df.head()"
   ]
  },
  {
   "cell_type": "code",
   "execution_count": 141,
   "id": "7ca18a46",
   "metadata": {},
   "outputs": [
    {
     "data": {
      "text/html": [
       "<div>\n",
       "<style scoped>\n",
       "    .dataframe tbody tr th:only-of-type {\n",
       "        vertical-align: middle;\n",
       "    }\n",
       "\n",
       "    .dataframe tbody tr th {\n",
       "        vertical-align: top;\n",
       "    }\n",
       "\n",
       "    .dataframe thead th {\n",
       "        text-align: right;\n",
       "    }\n",
       "</style>\n",
       "<table border=\"1\" class=\"dataframe\">\n",
       "  <thead>\n",
       "    <tr style=\"text-align: right;\">\n",
       "      <th></th>\n",
       "      <th>odometer_value</th>\n",
       "      <th>year_produced</th>\n",
       "      <th>engine_capacity</th>\n",
       "      <th>number_of_photos</th>\n",
       "      <th>duration_listed</th>\n",
       "      <th>price_usd</th>\n",
       "    </tr>\n",
       "  </thead>\n",
       "  <tbody>\n",
       "    <tr>\n",
       "      <th>count</th>\n",
       "      <td>38521.000000</td>\n",
       "      <td>38521.000000</td>\n",
       "      <td>38521.000000</td>\n",
       "      <td>38521.000000</td>\n",
       "      <td>38521.000000</td>\n",
       "      <td>38521.000000</td>\n",
       "    </tr>\n",
       "    <tr>\n",
       "      <th>mean</th>\n",
       "      <td>248910.074427</td>\n",
       "      <td>2002.940863</td>\n",
       "      <td>2.055161</td>\n",
       "      <td>9.648062</td>\n",
       "      <td>80.584616</td>\n",
       "      <td>6637.160884</td>\n",
       "    </tr>\n",
       "    <tr>\n",
       "      <th>std</th>\n",
       "      <td>136059.499858</td>\n",
       "      <td>8.064761</td>\n",
       "      <td>0.671178</td>\n",
       "      <td>6.092860</td>\n",
       "      <td>112.838577</td>\n",
       "      <td>6425.198996</td>\n",
       "    </tr>\n",
       "    <tr>\n",
       "      <th>min</th>\n",
       "      <td>0.000000</td>\n",
       "      <td>1942.000000</td>\n",
       "      <td>0.200000</td>\n",
       "      <td>1.000000</td>\n",
       "      <td>0.000000</td>\n",
       "      <td>1.000000</td>\n",
       "    </tr>\n",
       "    <tr>\n",
       "      <th>25%</th>\n",
       "      <td>158000.000000</td>\n",
       "      <td>1998.000000</td>\n",
       "      <td>1.600000</td>\n",
       "      <td>5.000000</td>\n",
       "      <td>23.000000</td>\n",
       "      <td>2100.000000</td>\n",
       "    </tr>\n",
       "    <tr>\n",
       "      <th>50%</th>\n",
       "      <td>250000.000000</td>\n",
       "      <td>2003.000000</td>\n",
       "      <td>2.000000</td>\n",
       "      <td>8.000000</td>\n",
       "      <td>59.000000</td>\n",
       "      <td>4800.000000</td>\n",
       "    </tr>\n",
       "    <tr>\n",
       "      <th>75%</th>\n",
       "      <td>325000.000000</td>\n",
       "      <td>2009.000000</td>\n",
       "      <td>2.300000</td>\n",
       "      <td>12.000000</td>\n",
       "      <td>91.000000</td>\n",
       "      <td>8950.000000</td>\n",
       "    </tr>\n",
       "    <tr>\n",
       "      <th>max</th>\n",
       "      <td>1000000.000000</td>\n",
       "      <td>2019.000000</td>\n",
       "      <td>8.000000</td>\n",
       "      <td>86.000000</td>\n",
       "      <td>2232.000000</td>\n",
       "      <td>50000.000000</td>\n",
       "    </tr>\n",
       "  </tbody>\n",
       "</table>\n",
       "</div>"
      ],
      "text/plain": [
       "       odometer_value  year_produced  engine_capacity  number_of_photos  \\\n",
       "count    38521.000000   38521.000000     38521.000000      38521.000000   \n",
       "mean    248910.074427    2002.940863         2.055161          9.648062   \n",
       "std     136059.499858       8.064761         0.671178          6.092860   \n",
       "min          0.000000    1942.000000         0.200000          1.000000   \n",
       "25%     158000.000000    1998.000000         1.600000          5.000000   \n",
       "50%     250000.000000    2003.000000         2.000000          8.000000   \n",
       "75%     325000.000000    2009.000000         2.300000         12.000000   \n",
       "max    1000000.000000    2019.000000         8.000000         86.000000   \n",
       "\n",
       "       duration_listed     price_usd  \n",
       "count     38521.000000  38521.000000  \n",
       "mean         80.584616   6637.160884  \n",
       "std         112.838577   6425.198996  \n",
       "min           0.000000      1.000000  \n",
       "25%          23.000000   2100.000000  \n",
       "50%          59.000000   4800.000000  \n",
       "75%          91.000000   8950.000000  \n",
       "max        2232.000000  50000.000000  "
      ]
     },
     "execution_count": 141,
     "metadata": {},
     "output_type": "execute_result"
    }
   ],
   "source": [
    "df.describe() #статистики датасета"
   ]
  },
  {
   "cell_type": "markdown",
   "id": "4698bb0e",
   "metadata": {},
   "source": [
    "__Проверка данных на нормальность__"
   ]
  },
  {
   "cell_type": "markdown",
   "id": "32b5eb84",
   "metadata": {},
   "source": [
    "https://towardsdatascience.com/normality-tests-in-python-31e04aa4f411"
   ]
  },
  {
   "cell_type": "code",
   "execution_count": 204,
   "id": "a5363e38",
   "metadata": {},
   "outputs": [
    {
     "data": {
      "image/png": "[encoded data removed]",
      "text/plain": [
       "<Figure size 864x576 with 1 Axes>"
      ]
     },
     "metadata": {
      "needs_background": "light"
     },
     "output_type": "display_data"
    }
   ],
   "source": [
    "fig, ax = plt.subplots(figsize=(12, 8))\n",
    "ax.set_title('Распределение зависимой переменной (price_usd) в выборке', fontsize=15)\n",
    "sns.histplot(df[\"price_usd\"], bins=100, ax=ax, color='red', edgecolor=\"darkred\")\n",
    "plt.grid()\n",
    "plt.show()"
   ]
  },
  {
   "cell_type": "code",
   "execution_count": null,
   "id": "0fe95a81",
   "metadata": {},
   "outputs": [],
   "source": []
  },
  {
   "cell_type": "code",
   "execution_count": 16,
   "id": "edfc616b",
   "metadata": {},
   "outputs": [
    {
     "data": {
      "image/png": "[encoded data removed]",
      "text/plain": [
       "<Figure size 432x288 with 1 Axes>"
      ]
     },
     "metadata": {
      "needs_background": "light"
     },
     "output_type": "display_data"
    }
   ],
   "source": [
    "stats.probplot(df[\"price_usd\"], dist=\"norm\", plot=pylab) ##QQ Plot\n",
    "pylab.show()"
   ]
  },
  {
   "cell_type": "code",
   "execution_count": 18,
   "id": "753e640b",
   "metadata": {},
   "outputs": [],
   "source": [
    "from scipy.stats import chisquare\n",
    "\n",
    "stat, pvalue = chisquare(df[\"price_usd\"])\n",
    "stat, pvalue"
   ]
  },
  {
   "cell_type": "markdown",
   "id": "23035e33",
   "metadata": {},
   "source": [
    "If the p-value ≤ 0.05, then we reject the null hypothesis i.e. we assume the distribution of our variable is not normal/gaussian"
   ]
  },
  {
   "cell_type": "code",
   "execution_count": 21,
   "id": "94fa5a80",
   "metadata": {},
   "outputs": [],
   "source": [
    "from scipy.stats import jarque_bera\n",
    "\n",
    "stat, pvalue = jarque_bera(df[\"price_usd\"])\n",
    "stat, pvalue"
   ]
  },
  {
   "cell_type": "markdown",
   "id": "4ddf862b",
   "metadata": {},
   "source": [
    "If the p-value ≤ 0.05, then we reject the null hypothesis i.e. we assume the distribution of our variable is not normal/gaussian"
   ]
  },
  {
   "cell_type": "markdown",
   "id": "072973df",
   "metadata": {},
   "source": [
    "Боксплоты:"
   ]
  },
  {
   "cell_type": "code",
   "execution_count": 17,
   "id": "49f65bce",
   "metadata": {},
   "outputs": [
    {
     "data": {
      "image/png": "[encoded data removed]",
      "text/plain": [
       "<Figure size 720x576 with 4 Axes>"
      ]
     },
     "metadata": {
      "needs_background": "light"
     },
     "output_type": "display_data"
    }
   ],
   "source": [
    "fig, axs = plt.subplots(nrows=2, ncols=2, figsize=(10, 8))\n",
    "fig.suptitle('Y', fontsize=20)\n",
    "sns.boxplot(data=df, y=\"price_usd\", x=\"transmission\",ax=axs[0,0])\n",
    "sns.boxplot(data=df, y=\"price_usd\", x=\"engine_type\", ax=axs[0,1])\n",
    "sns.boxplot(data=df, y=\"price_usd\", x=\"has_warranty\", ax=axs[1,0])\n",
    "sns.boxplot(data=df, y=\"price_usd\", x=\"is_exchangeable\", ax=axs[1,1]);"
   ]
  },
  {
   "cell_type": "code",
   "execution_count": null,
   "id": "30753d3e",
   "metadata": {},
   "outputs": [],
   "source": []
  },
  {
   "cell_type": "code",
   "execution_count": 24,
   "id": "485f64ad",
   "metadata": {},
   "outputs": [],
   "source": [
    "from sklearn.linear_model import LinearRegression\n",
    "\n",
    "#разделение на x и y\n",
    "x = df.drop(columns = \"price_usd\")\n",
    "y = df[\"price_usd\"]\n",
    "\n",
    "model = LinearRegression().fit(x, y)\n",
    "\n",
    "print(model.intercept_, model.coef_, model.score(x, y)) #последнее это R^2"
   ]
  },
  {
   "cell_type": "code",
   "execution_count": null,
   "id": "d5ecfdff",
   "metadata": {},
   "outputs": [],
   "source": []
  },
  {
   "cell_type": "code",
   "execution_count": null,
   "id": "2c8cf132",
   "metadata": {},
   "outputs": [],
   "source": [
    "======"
   ]
  },
  {
   "cell_type": "code",
   "execution_count": 28,
   "id": "e9c17d3d",
   "metadata": {},
   "outputs": [],
   "source": [
    "import statsmodels.api as sm"
   ]
  },
  {
   "cell_type": "code",
   "execution_count": 29,
   "id": "cc4b21b7",
   "metadata": {},
   "outputs": [],
   "source": [
    "from statsmodels.formula.api import ols\n",
    "# Analysis of Variance (ANOVA) on linear models\n",
    "from statsmodels.stats.anova import anova_lm"
   ]
  },
  {
   "cell_type": "markdown",
   "id": "1fd1f511",
   "metadata": {},
   "source": [
    "## Выбор между моделями"
   ]
  },
  {
   "cell_type": "markdown",
   "id": "f5c28f40",
   "metadata": {},
   "source": [
    "### Тест Зарембки"
   ]
  },
  {
   "cell_type": "code",
   "execution_count": 239,
   "id": "67590043",
   "metadata": {},
   "outputs": [],
   "source": [
    "from scipy.stats import gmean"
   ]
  },
  {
   "cell_type": "code",
   "execution_count": 244,
   "id": "bac081dc",
   "metadata": {},
   "outputs": [],
   "source": [
    "df3 = df.copy()\n",
    "\n",
    "df3[\"price_usd\"] = df3[\"price_usd\"] / gmean(df3[\"price_usd\"])\n",
    "df3 = df3.rename(columns = {\"price_usd\" : \"price_usd_gmean\"})"
   ]
  },
  {
   "cell_type": "markdown",
   "id": "6f4cb972",
   "metadata": {},
   "source": [
    "Рассчитываем следующую линейную регрессию: <br>\n",
    "<img src=\"https://i.imgur.com/BpOA39q.png\" alt=\"Drawing\" style=\"width: 250px;\"/>"
   ]
  },
  {
   "cell_type": "code",
   "execution_count": 252,
   "id": "571f54d3",
   "metadata": {},
   "outputs": [],
   "source": [
    "x = sm.add_constant(x)\n",
    "model1 = ols(\n",
    "    \"price_usd_gmean ~ odometer_value + year_produced + engine_capacity + number_of_photos + duration_listed + transmission + engine_type + has_warranty + is_exchangeable\", \n",
    "            df3).fit()"
   ]
  },
  {
   "cell_type": "markdown",
   "id": "8ea798e2",
   "metadata": {},
   "source": [
    "Рассчитываем следующую логарифмическую регрессию: <br>\n",
    "<img src=\"https://i.imgur.com/EGKk36V.png\" alt=\"Drawing\" style=\"width: 300px;\"/>"
   ]
  },
  {
   "cell_type": "code",
   "execution_count": 254,
   "id": "987fc9e6",
   "metadata": {},
   "outputs": [],
   "source": [
    "df3[\"log_price_usd_gmean\"] = np.log(df3[\"price_usd_gmean\"])"
   ]
  },
  {
   "cell_type": "code",
   "execution_count": 256,
   "id": "2ed9ad2d",
   "metadata": {},
   "outputs": [],
   "source": [
    "x = sm.add_constant(x)\n",
    "model2 = ols(\n",
    "    \"log_price_usd_gmean ~ odometer_value + year_produced + engine_capacity + number_of_photos + duration_listed + transmission + engine_type + has_warranty + is_exchangeable\", \n",
    "            df3).fit()"
   ]
  },
  {
   "cell_type": "markdown",
   "id": "f8fcd289",
   "metadata": {},
   "source": [
    "Вычисляем Хи квадрат статистику: <br>\n",
    "<img src=\"https://i.imgur.com/wvpc0Ea.png\" alt=\"Drawing\" style=\"width: 300px;\"/>"
   ]
  },
  {
   "cell_type": "code",
   "execution_count": 269,
   "id": "9ac839b5",
   "metadata": {},
   "outputs": [],
   "source": [
    "# rss1 = model1.ssr\n",
    "# rss2 = model2.ssr\n",
    "n = y.shape[0]\n",
    "chi_stat = (n/2)*np.absolute(np.log(rss1/rss2))"
   ]
  },
  {
   "cell_type": "code",
   "execution_count": 271,
   "id": "1c77c5a1",
   "metadata": {},
   "outputs": [
    {
     "data": {
      "text/plain": [
       "22756.218899773678"
      ]
     },
     "execution_count": 271,
     "metadata": {},
     "output_type": "execute_result"
    }
   ],
   "source": [
    "chi_stat "
   ]
  },
  {
   "cell_type": "markdown",
   "id": "1726fe19",
   "metadata": {},
   "source": [
    "Полученный результат намного больше $Хи_{crit}$. Значит $H_0$ отвергается и между линейной и полулогарифмической моделью есть различия, а значит предпочтительнее использовать ту модель, у которой меньше RSS. (Полулогарифмическую модель, так как у нее меньше RSS.) \n",
    "\n",
    "Оценим модели:"
   ]
  },
  {
   "cell_type": "markdown",
   "id": "695ad545",
   "metadata": {},
   "source": [
    "__Линейная модель:__"
   ]
  },
  {
   "cell_type": "code",
   "execution_count": 290,
   "id": "4e125a45",
   "metadata": {},
   "outputs": [
    {
     "name": "stdout",
     "output_type": "stream",
     "text": [
      "                            OLS Regression Results                            \n",
      "==============================================================================\n",
      "Dep. Variable:              price_usd   R-squared:                       0.649\n",
      "Model:                            OLS   Adj. R-squared:                  0.649\n",
      "Method:                 Least Squares   F-statistic:                     7589.\n",
      "Date:                Sat, 10 Dec 2022   Prob (F-statistic):               0.00\n",
      "Time:                        17:52:46   Log-Likelihood:            -3.5720e+05\n",
      "No. Observations:               36937   AIC:                         7.144e+05\n",
      "Df Residuals:                   36927   BIC:                         7.145e+05\n",
      "Df Model:                           9                                         \n",
      "Covariance Type:            nonrobust                                         \n",
      "========================================================================================\n",
      "                           coef    std err          t      P>|t|      [0.025      0.975]\n",
      "----------------------------------------------------------------------------------------\n",
      "Intercept            -8.389e+05   6368.927   -131.715      0.000   -8.51e+05   -8.26e+05\n",
      "transmission[T.1]    -1663.0858     53.409    -31.139      0.000   -1767.769   -1558.402\n",
      "engine_type[T.1]     -1492.0929     44.954    -33.192      0.000   -1580.203   -1403.983\n",
      "has_warranty[T.1]     9202.9777    189.921     48.457      0.000    8830.727    9575.228\n",
      "is_exchangeable[T.1]  -218.1834     42.715     -5.108      0.000    -301.905    -134.461\n",
      "odometer_value          -0.0070      0.000    -39.001      0.000      -0.007      -0.007\n",
      "year_produced          420.9938      3.159    133.280      0.000     414.803     427.185\n",
      "engine_capacity       2413.9871     35.267     68.449      0.000    2344.863    2483.111\n",
      "number_of_photos       103.6512      3.438     30.145      0.000      96.912     110.391\n",
      "duration_listed          1.8702      0.180     10.405      0.000       1.518       2.223\n",
      "==============================================================================\n",
      "Omnibus:                    21539.581   Durbin-Watson:                   1.567\n",
      "Prob(Omnibus):                  0.000   Jarque-Bera (JB):           314755.901\n",
      "Skew:                           2.532   Prob(JB):                         0.00\n",
      "Kurtosis:                      16.374   Cond. No.                     9.03e+07\n",
      "==============================================================================\n",
      "\n",
      "Notes:\n",
      "[1] Standard Errors assume that the covariance matrix of the errors is correctly specified.\n",
      "[2] The condition number is large, 9.03e+07. This might indicate that there are\n",
      "strong multicollinearity or other numerical problems.\n",
      "\n",
      "ANOVA results\n",
      "                       df        sum_sq       mean_sq             F  \\\n",
      "transmission          1.0  3.542038e+11  3.542038e+11  24091.824107   \n",
      "engine_type           1.0  3.301940e+10  3.301940e+10   2245.875309   \n",
      "has_warranty          1.0  1.074236e+11  1.074236e+11   7306.613090   \n",
      "is_exchangeable       1.0  3.116788e+09  3.116788e+09    211.994104   \n",
      "odometer_value        1.0  1.567359e+11  1.567359e+11  10660.681228   \n",
      "year_produced         1.0  2.602857e+11  2.602857e+11  17703.809608   \n",
      "engine_capacity       1.0  7.478159e+10  7.478159e+10   5086.408075   \n",
      "number_of_photos      1.0  1.302649e+10  1.302649e+10    886.020581   \n",
      "duration_listed       1.0  1.591581e+09  1.591581e+09    108.254304   \n",
      "Residual          36927.0  5.429096e+11  1.470224e+07           NaN   \n",
      "\n",
      "                         PR(>F)  \n",
      "transmission       0.000000e+00  \n",
      "engine_type        0.000000e+00  \n",
      "has_warranty       0.000000e+00  \n",
      "is_exchangeable    6.850040e-48  \n",
      "odometer_value     0.000000e+00  \n",
      "year_produced      0.000000e+00  \n",
      "engine_capacity    0.000000e+00  \n",
      "number_of_photos  2.031664e-192  \n",
      "duration_listed    2.562672e-25  \n",
      "Residual                    NaN  \n"
     ]
    }
   ],
   "source": [
    "x = sm.add_constant(x)\n",
    "model1 = ols(\n",
    "    \"price_usd ~ odometer_value + year_produced + engine_capacity + number_of_photos + duration_listed + transmission + engine_type + has_warranty + is_exchangeable\", \n",
    "            df).fit()\n",
    "\n",
    "print(model1.summary())\n",
    "\n",
    "# Peform analysis of variance on fitted linear model\n",
    "anova_results = anova_lm(model1)\n",
    "\n",
    "print('\\nANOVA results')\n",
    "print(anova_results)"
   ]
  },
  {
   "cell_type": "markdown",
   "id": "e65e9781",
   "metadata": {},
   "source": [
    "__Полулогарифмическая модель__"
   ]
  },
  {
   "cell_type": "markdown",
   "id": "82217c8c",
   "metadata": {},
   "source": [
    "*Используем log(1+x) логарифмирование, так как в независимых переменных есть нули, и мы не сможем сравнить модели далее"
   ]
  },
  {
   "cell_type": "code",
   "execution_count": 295,
   "id": "9d64f7b9",
   "metadata": {},
   "outputs": [
    {
     "name": "stdout",
     "output_type": "stream",
     "text": [
      "                            OLS Regression Results                            \n",
      "==============================================================================\n",
      "Dep. Variable:          log_price_usd   R-squared:                       0.767\n",
      "Model:                            OLS   Adj. R-squared:                  0.767\n",
      "Method:                 Least Squares   F-statistic:                 1.351e+04\n",
      "Date:                Sat, 10 Dec 2022   Prob (F-statistic):               0.00\n",
      "Time:                        18:01:48   Log-Likelihood:                -26505.\n",
      "No. Observations:               36937   AIC:                         5.303e+04\n",
      "Df Residuals:                   36927   BIC:                         5.312e+04\n",
      "Df Model:                           9                                         \n",
      "Covariance Type:            nonrobust                                         \n",
      "========================================================================================\n",
      "                           coef    std err          t      P>|t|      [0.025      0.975]\n",
      "----------------------------------------------------------------------------------------\n",
      "Intercept             -176.3083      0.824   -214.010      0.000    -177.923    -174.694\n",
      "transmission[T.1]       -0.1927      0.007    -27.898      0.000      -0.206      -0.179\n",
      "engine_type[T.1]        -0.2833      0.006    -48.712      0.000      -0.295      -0.272\n",
      "has_warranty[T.1]        0.2202      0.025      8.962      0.000       0.172       0.268\n",
      "is_exchangeable[T.1]    -0.0468      0.006     -8.472      0.000      -0.058      -0.036\n",
      "odometer_value       -3.875e-07   2.31e-08    -16.778      0.000   -4.33e-07   -3.42e-07\n",
      "year_produced            0.0919      0.000    225.043      0.000       0.091       0.093\n",
      "engine_capacity          0.3747      0.005     82.139      0.000       0.366       0.384\n",
      "number_of_photos         0.0128      0.000     28.768      0.000       0.012       0.014\n",
      "duration_listed          0.0003   2.33e-05     13.581      0.000       0.000       0.000\n",
      "==============================================================================\n",
      "Omnibus:                     7898.422   Durbin-Watson:                   1.603\n",
      "Prob(Omnibus):                  0.000   Jarque-Bera (JB):           305368.559\n",
      "Skew:                          -0.192   Prob(JB):                         0.00\n",
      "Kurtosis:                      17.081   Cond. No.                     9.03e+07\n",
      "==============================================================================\n",
      "\n",
      "Notes:\n",
      "[1] Standard Errors assume that the covariance matrix of the errors is correctly specified.\n",
      "[2] The condition number is large, 9.03e+07. This might indicate that there are\n",
      "strong multicollinearity or other numerical problems.\n",
      "\n",
      "ANOVA results\n",
      "                       df        sum_sq       mean_sq             F  \\\n",
      "transmission          1.0   9018.772973   9018.772973  36662.122484   \n",
      "engine_type           1.0   1658.063884   1658.063884   6740.178666   \n",
      "has_warranty          1.0    890.892060    890.892060   3621.556273   \n",
      "is_exchangeable       1.0    160.310846    160.310846    651.677994   \n",
      "odometer_value        1.0   3708.401541   3708.401541  15074.985470   \n",
      "year_produced         1.0  12448.411358  12448.411358  50603.910675   \n",
      "engine_capacity       1.0   1786.144637   1786.144637   7260.838435   \n",
      "number_of_photos      1.0    196.529579    196.529579    798.910397   \n",
      "duration_listed       1.0     45.370784     45.370784    184.436315   \n",
      "Residual          36927.0   9083.932053      0.245997           NaN   \n",
      "\n",
      "                         PR(>F)  \n",
      "transmission       0.000000e+00  \n",
      "engine_type        0.000000e+00  \n",
      "has_warranty       0.000000e+00  \n",
      "is_exchangeable   1.667801e-142  \n",
      "odometer_value     0.000000e+00  \n",
      "year_produced      0.000000e+00  \n",
      "engine_capacity    0.000000e+00  \n",
      "number_of_photos  6.661788e-174  \n",
      "duration_listed    6.570833e-42  \n",
      "Residual                    NaN  \n"
     ]
    }
   ],
   "source": [
    "df1 = df.copy()\n",
    "\n",
    "df1['price_usd'] = df1['price_usd'].apply(lambda x: np.log1p(x)) #логарифмированный Y \n",
    "df1 = df1.rename(columns = {\"price_usd\" : \"log_price_usd\"})\n",
    "\n",
    "x = sm.add_constant(x)\n",
    "model2 = ols(\n",
    "    \"log_price_usd ~ odometer_value + year_produced + engine_capacity + number_of_photos + duration_listed + transmission + engine_type + has_warranty + is_exchangeable\", \n",
    "            df1).fit()\n",
    "\n",
    "print(model2.summary())\n",
    "\n",
    "# Peform analysis of variance on fitted linear model\n",
    "anova_results = anova_lm(model2)\n",
    "\n",
    "print('\\nANOVA results')\n",
    "print(anova_results)"
   ]
  },
  {
   "cell_type": "code",
   "execution_count": 296,
   "id": "8425f91e",
   "metadata": {},
   "outputs": [
    {
     "name": "stdout",
     "output_type": "stream",
     "text": [
      "RSS линейной модели: 542909629983.11646\n",
      "RSS полулогарифмической модели: 9083.93205340836\n"
     ]
    }
   ],
   "source": [
    "rss1 = model1.ssr\n",
    "rss2 = model2.ssr\n",
    "\n",
    "print(\"RSS линейной модели:\", rss1)\n",
    "print(\"RSS полулогарифмической модели:\", rss2)"
   ]
  },
  {
   "cell_type": "markdown",
   "id": "0422dda9",
   "metadata": {},
   "source": [
    "Видим, что у полулогарифмической модели гораздо меньше RSS, и выше $R^2$. Значит, будем использовать полулогарифмическую модель."
   ]
  },
  {
   "cell_type": "markdown",
   "id": "a3cccf98",
   "metadata": {},
   "source": [
    "Теперь сравним также полулогарифмическую модель с логарифмической моделью:"
   ]
  },
  {
   "cell_type": "markdown",
   "id": "35ef7a8b",
   "metadata": {},
   "source": [
    "__Логарифмическая модель__"
   ]
  },
  {
   "cell_type": "code",
   "execution_count": 298,
   "id": "4ffdeb0a",
   "metadata": {},
   "outputs": [
    {
     "name": "stdout",
     "output_type": "stream",
     "text": [
      "                            OLS Regression Results                            \n",
      "==============================================================================\n",
      "Dep. Variable:      all_log_price_usd   R-squared:                       0.771\n",
      "Model:                            OLS   Adj. R-squared:                  0.771\n",
      "Method:                 Least Squares   F-statistic:                 1.380e+04\n",
      "Date:                Sat, 10 Dec 2022   Prob (F-statistic):               0.00\n",
      "Time:                        18:03:58   Log-Likelihood:                -26201.\n",
      "No. Observations:               36937   AIC:                         5.242e+04\n",
      "Df Residuals:                   36927   BIC:                         5.251e+04\n",
      "Df Model:                           9                                         \n",
      "Covariance Type:            nonrobust                                         \n",
      "========================================================================================\n",
      "                           coef    std err          t      P>|t|      [0.025      0.975]\n",
      "----------------------------------------------------------------------------------------\n",
      "Intercept            -1432.6224      5.765   -248.523      0.000   -1443.921   -1421.324\n",
      "transmission[T.1]       -0.1738      0.007    -25.185      0.000      -0.187      -0.160\n",
      "engine_type[T.1]        -0.2361      0.006    -41.656      0.000      -0.247      -0.225\n",
      "has_warranty[T.1]        0.0172      0.032      0.536      0.592      -0.046       0.080\n",
      "is_exchangeable[T.1]    -0.0488      0.005     -8.913      0.000      -0.059      -0.038\n",
      "odometer_value          -0.0302      0.002    -13.848      0.000      -0.034      -0.026\n",
      "year_produced          189.3552      0.757    250.127      0.000     187.871     190.839\n",
      "engine_capacity          1.3643      0.016     86.409      0.000       1.333       1.395\n",
      "number_of_photos         0.1460      0.005     30.450      0.000       0.137       0.155\n",
      "duration_listed          0.0438      0.002     19.944      0.000       0.039       0.048\n",
      "==============================================================================\n",
      "Omnibus:                     7993.494   Durbin-Watson:                   1.620\n",
      "Prob(Omnibus):                  0.000   Jarque-Bera (JB):           358732.657\n",
      "Skew:                          -0.054   Prob(JB):                         0.00\n",
      "Kurtosis:                      18.267   Cond. No.                     3.43e+04\n",
      "==============================================================================\n",
      "\n",
      "Notes:\n",
      "[1] Standard Errors assume that the covariance matrix of the errors is correctly specified.\n",
      "[2] The condition number is large, 3.43e+04. This might indicate that there are\n",
      "strong multicollinearity or other numerical problems.\n",
      "\n",
      "ANOVA results\n",
      "                       df        sum_sq       mean_sq             F  \\\n",
      "transmission          1.0   9018.772973   9018.772973  37271.063717   \n",
      "engine_type           1.0   1658.063884   1658.063884   6852.129978   \n",
      "has_warranty          1.0    890.892060    890.892060   3681.708680   \n",
      "is_exchangeable       1.0    160.310846    160.310846    662.502070   \n",
      "odometer_value        1.0    970.497319    970.497319   4010.686099   \n",
      "year_produced         1.0  15151.727876  15151.727876  62616.169268   \n",
      "engine_capacity       1.0   1913.590839   1913.590839   7908.123011   \n",
      "number_of_photos      1.0    201.209887    201.209887    831.521821   \n",
      "duration_listed       1.0     96.246868     96.246868    397.750686   \n",
      "Residual          36927.0   8935.517164      0.241978           NaN   \n",
      "\n",
      "                         PR(>F)  \n",
      "transmission       0.000000e+00  \n",
      "engine_type        0.000000e+00  \n",
      "has_warranty       0.000000e+00  \n",
      "is_exchangeable   8.115498e-145  \n",
      "odometer_value     0.000000e+00  \n",
      "year_produced      0.000000e+00  \n",
      "engine_capacity    0.000000e+00  \n",
      "number_of_photos  7.701719e-181  \n",
      "duration_listed    4.951710e-88  \n",
      "Residual                    NaN  \n"
     ]
    }
   ],
   "source": [
    "df2 = df.copy()\n",
    "\n",
    "df2[(df2[\"odometer_value\"] == 0) | (df2[\"duration_listed\"] == 0)] #есть нулевые значения => используем log(1 + x)\n",
    "\n",
    "df2[['odometer_value', 'year_produced', 'engine_capacity','number_of_photos', 'duration_listed', \"price_usd\"]] = df2[\n",
    "    ['odometer_value', 'year_produced', 'engine_capacity','number_of_photos', 'duration_listed', \"price_usd\"]].apply(\n",
    "    lambda x: np.log1p(x))\n",
    "\n",
    "df2 = df2.rename(columns = {\"price_usd\" : \"all_log_price_usd\"})\n",
    "\n",
    "x = sm.add_constant(x)\n",
    "model3 = ols(\n",
    "    \"all_log_price_usd ~ odometer_value + year_produced + engine_capacity + number_of_photos + duration_listed + transmission + engine_type + has_warranty + is_exchangeable\", \n",
    "            df2).fit()\n",
    "\n",
    "print(model3.summary())\n",
    "\n",
    "# Peform analysis of variance on fitted linear model\n",
    "anova_results = anova_lm(model3)\n",
    "\n",
    "print('\\nANOVA results')\n",
    "print(anova_results)"
   ]
  },
  {
   "cell_type": "markdown",
   "id": "9f69fe79",
   "metadata": {},
   "source": [
    "Мы видим, что $R^2_{adj} = 0.771$ для логарифмической модели, тогда как у полулогарифмической он равен 0.767. Различие не слишком большое, однако для логарифмической модели он больше, поэтому будем использовать её. "
   ]
  },
  {
   "cell_type": "code",
   "execution_count": 299,
   "id": "b0350080",
   "metadata": {},
   "outputs": [
    {
     "data": {
      "text/html": [
       "<div>\n",
       "<style scoped>\n",
       "    .dataframe tbody tr th:only-of-type {\n",
       "        vertical-align: middle;\n",
       "    }\n",
       "\n",
       "    .dataframe tbody tr th {\n",
       "        vertical-align: top;\n",
       "    }\n",
       "\n",
       "    .dataframe thead th {\n",
       "        text-align: right;\n",
       "    }\n",
       "</style>\n",
       "<table border=\"1\" class=\"dataframe\">\n",
       "  <thead>\n",
       "    <tr style=\"text-align: right;\">\n",
       "      <th></th>\n",
       "      <th>odometer_value</th>\n",
       "      <th>year_produced</th>\n",
       "      <th>engine_capacity</th>\n",
       "      <th>number_of_photos</th>\n",
       "      <th>duration_listed</th>\n",
       "      <th>transmission</th>\n",
       "      <th>engine_type</th>\n",
       "      <th>engine_fuel</th>\n",
       "      <th>has_warranty</th>\n",
       "      <th>is_exchangeable</th>\n",
       "      <th>all_log_price_usd</th>\n",
       "    </tr>\n",
       "  </thead>\n",
       "  <tbody>\n",
       "    <tr>\n",
       "      <th>0</th>\n",
       "      <td>12.154785</td>\n",
       "      <td>7.606387</td>\n",
       "      <td>1.252763</td>\n",
       "      <td>2.302585</td>\n",
       "      <td>2.833213</td>\n",
       "      <td>0</td>\n",
       "      <td>1</td>\n",
       "      <td>1</td>\n",
       "      <td>0</td>\n",
       "      <td>0</td>\n",
       "      <td>9.296610</td>\n",
       "    </tr>\n",
       "    <tr>\n",
       "      <th>1</th>\n",
       "      <td>12.577640</td>\n",
       "      <td>7.602401</td>\n",
       "      <td>1.386294</td>\n",
       "      <td>2.564949</td>\n",
       "      <td>4.430817</td>\n",
       "      <td>0</td>\n",
       "      <td>1</td>\n",
       "      <td>1</td>\n",
       "      <td>0</td>\n",
       "      <td>1</td>\n",
       "      <td>8.517393</td>\n",
       "    </tr>\n",
       "    <tr>\n",
       "      <th>2</th>\n",
       "      <td>12.904210</td>\n",
       "      <td>7.601902</td>\n",
       "      <td>1.252763</td>\n",
       "      <td>1.609438</td>\n",
       "      <td>5.023881</td>\n",
       "      <td>0</td>\n",
       "      <td>1</td>\n",
       "      <td>1</td>\n",
       "      <td>0</td>\n",
       "      <td>1</td>\n",
       "      <td>7.937732</td>\n",
       "    </tr>\n",
       "    <tr>\n",
       "      <th>3</th>\n",
       "      <td>9.210440</td>\n",
       "      <td>7.600902</td>\n",
       "      <td>1.386294</td>\n",
       "      <td>2.302585</td>\n",
       "      <td>4.465908</td>\n",
       "      <td>1</td>\n",
       "      <td>1</td>\n",
       "      <td>1</td>\n",
       "      <td>0</td>\n",
       "      <td>1</td>\n",
       "      <td>9.210340</td>\n",
       "    </tr>\n",
       "    <tr>\n",
       "      <th>4</th>\n",
       "      <td>12.542548</td>\n",
       "      <td>7.601902</td>\n",
       "      <td>1.252763</td>\n",
       "      <td>2.708050</td>\n",
       "      <td>2.079442</td>\n",
       "      <td>0</td>\n",
       "      <td>1</td>\n",
       "      <td>1</td>\n",
       "      <td>0</td>\n",
       "      <td>1</td>\n",
       "      <td>7.666273</td>\n",
       "    </tr>\n",
       "    <tr>\n",
       "      <th>...</th>\n",
       "      <td>...</td>\n",
       "      <td>...</td>\n",
       "      <td>...</td>\n",
       "      <td>...</td>\n",
       "      <td>...</td>\n",
       "      <td>...</td>\n",
       "      <td>...</td>\n",
       "      <td>...</td>\n",
       "      <td>...</td>\n",
       "      <td>...</td>\n",
       "      <td>...</td>\n",
       "    </tr>\n",
       "    <tr>\n",
       "      <th>38526</th>\n",
       "      <td>12.577640</td>\n",
       "      <td>7.601402</td>\n",
       "      <td>1.504077</td>\n",
       "      <td>1.791759</td>\n",
       "      <td>5.710427</td>\n",
       "      <td>0</td>\n",
       "      <td>1</td>\n",
       "      <td>1</td>\n",
       "      <td>0</td>\n",
       "      <td>1</td>\n",
       "      <td>7.919720</td>\n",
       "    </tr>\n",
       "    <tr>\n",
       "      <th>38527</th>\n",
       "      <td>12.679200</td>\n",
       "      <td>7.603399</td>\n",
       "      <td>1.163151</td>\n",
       "      <td>1.609438</td>\n",
       "      <td>5.762051</td>\n",
       "      <td>1</td>\n",
       "      <td>0</td>\n",
       "      <td>0</td>\n",
       "      <td>0</td>\n",
       "      <td>1</td>\n",
       "      <td>8.476580</td>\n",
       "    </tr>\n",
       "    <tr>\n",
       "      <th>38528</th>\n",
       "      <td>13.564428</td>\n",
       "      <td>7.601402</td>\n",
       "      <td>1.504077</td>\n",
       "      <td>1.386294</td>\n",
       "      <td>5.913503</td>\n",
       "      <td>0</td>\n",
       "      <td>1</td>\n",
       "      <td>1</td>\n",
       "      <td>0</td>\n",
       "      <td>0</td>\n",
       "      <td>8.366603</td>\n",
       "    </tr>\n",
       "    <tr>\n",
       "      <th>38529</th>\n",
       "      <td>9.903538</td>\n",
       "      <td>7.601902</td>\n",
       "      <td>1.098612</td>\n",
       "      <td>2.079442</td>\n",
       "      <td>6.196444</td>\n",
       "      <td>1</td>\n",
       "      <td>1</td>\n",
       "      <td>1</td>\n",
       "      <td>0</td>\n",
       "      <td>1</td>\n",
       "      <td>8.294300</td>\n",
       "    </tr>\n",
       "    <tr>\n",
       "      <th>38530</th>\n",
       "      <td>12.603942</td>\n",
       "      <td>7.601402</td>\n",
       "      <td>1.223775</td>\n",
       "      <td>1.609438</td>\n",
       "      <td>6.450470</td>\n",
       "      <td>0</td>\n",
       "      <td>1</td>\n",
       "      <td>1</td>\n",
       "      <td>0</td>\n",
       "      <td>1</td>\n",
       "      <td>8.071219</td>\n",
       "    </tr>\n",
       "  </tbody>\n",
       "</table>\n",
       "<p>36937 rows × 11 columns</p>\n",
       "</div>"
      ],
      "text/plain": [
       "       odometer_value  year_produced  engine_capacity  number_of_photos  \\\n",
       "0           12.154785       7.606387         1.252763          2.302585   \n",
       "1           12.577640       7.602401         1.386294          2.564949   \n",
       "2           12.904210       7.601902         1.252763          1.609438   \n",
       "3            9.210440       7.600902         1.386294          2.302585   \n",
       "4           12.542548       7.601902         1.252763          2.708050   \n",
       "...               ...            ...              ...               ...   \n",
       "38526       12.577640       7.601402         1.504077          1.791759   \n",
       "38527       12.679200       7.603399         1.163151          1.609438   \n",
       "38528       13.564428       7.601402         1.504077          1.386294   \n",
       "38529        9.903538       7.601902         1.098612          2.079442   \n",
       "38530       12.603942       7.601402         1.223775          1.609438   \n",
       "\n",
       "       duration_listed transmission engine_type engine_fuel has_warranty  \\\n",
       "0             2.833213            0           1           1            0   \n",
       "1             4.430817            0           1           1            0   \n",
       "2             5.023881            0           1           1            0   \n",
       "3             4.465908            1           1           1            0   \n",
       "4             2.079442            0           1           1            0   \n",
       "...                ...          ...         ...         ...          ...   \n",
       "38526         5.710427            0           1           1            0   \n",
       "38527         5.762051            1           0           0            0   \n",
       "38528         5.913503            0           1           1            0   \n",
       "38529         6.196444            1           1           1            0   \n",
       "38530         6.450470            0           1           1            0   \n",
       "\n",
       "      is_exchangeable  all_log_price_usd  \n",
       "0                   0           9.296610  \n",
       "1                   1           8.517393  \n",
       "2                   1           7.937732  \n",
       "3                   1           9.210340  \n",
       "4                   1           7.666273  \n",
       "...               ...                ...  \n",
       "38526               1           7.919720  \n",
       "38527               1           8.476580  \n",
       "38528               0           8.366603  \n",
       "38529               1           8.294300  \n",
       "38530               1           8.071219  \n",
       "\n",
       "[36937 rows x 11 columns]"
      ]
     },
     "execution_count": 299,
     "metadata": {},
     "output_type": "execute_result"
    }
   ],
   "source": [
    "df2"
   ]
  },
  {
   "cell_type": "code",
   "execution_count": null,
   "id": "dc6fb045",
   "metadata": {},
   "outputs": [],
   "source": []
  },
  {
   "cell_type": "code",
   "execution_count": null,
   "id": "18eb1de7",
   "metadata": {},
   "outputs": [],
   "source": []
  },
  {
   "cell_type": "code",
   "execution_count": null,
   "id": "e9bbdcf5",
   "metadata": {},
   "outputs": [],
   "source": []
  },
  {
   "cell_type": "code",
   "execution_count": null,
   "id": "39985806",
   "metadata": {},
   "outputs": [],
   "source": []
  },
  {
   "cell_type": "code",
   "execution_count": null,
   "id": "f69e2d1c",
   "metadata": {},
   "outputs": [],
   "source": []
  },
  {
   "cell_type": "code",
   "execution_count": null,
   "id": "bf11c2fa",
   "metadata": {},
   "outputs": [],
   "source": []
  },
  {
   "cell_type": "code",
   "execution_count": null,
   "id": "22c8a8e7",
   "metadata": {},
   "outputs": [],
   "source": []
  },
  {
   "cell_type": "code",
   "execution_count": null,
   "id": "4d6de416",
   "metadata": {},
   "outputs": [],
   "source": []
  },
  {
   "cell_type": "code",
   "execution_count": null,
   "id": "055cd0cc",
   "metadata": {},
   "outputs": [],
   "source": []
  },
  {
   "cell_type": "code",
   "execution_count": null,
   "id": "cfd24ee9",
   "metadata": {},
   "outputs": [],
   "source": []
  }
 ],
 "metadata": {
  "kernelspec": {
   "display_name": "Python 3 (ipykernel)",
   "language": "python",
   "name": "python3"
  },
  "language_info": {
   "codemirror_mode": {
    "name": "ipython",
    "version": 3
   },
   "file_extension": ".py",
   "mimetype": "text/x-python",
   "name": "python",
   "nbconvert_exporter": "python",
   "pygments_lexer": "ipython3",
   "version": "3.9.12"
  }
 },
 "nbformat": 4,
 "nbformat_minor": 5
}

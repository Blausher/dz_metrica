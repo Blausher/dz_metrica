{
 "cells": [
  {
   "cell_type": "markdown",
   "id": "8fe1e7b5",
   "metadata": {},
   "source": [
    "<img src=\"https://i.imgur.com/1gfldyb.png\" alt=\"Drawing\" style=\"width: 700px;\"/>"
   ]
  },
  {
   "cell_type": "markdown",
   "id": "585af702",
   "metadata": {},
   "source": [
    "Датасет, спользованный в исслеовании - ссылка на kaggle: https://www.kaggle.com/datasets/lepchenkov/usedcarscatalog\n",
    "\n",
    "\n",
    "__Цель исследования:__ Проследить влияние различных характеристик машин, собранных с объявлений на сайтах по продаже машин, на цену, за которая машина продается. \n",
    "\n",
    "__Задачи:__ Определить, какие характеристики влияют сильно на цену лота, какие не влияют, какие влияют в меньшей степени. Провести сравнение моделей, и выбрать лучшую. Просвести предварительный анализ собранных данных.\n",
    "\n",
    "__Актуальность__: В описании к данному датасету сказано, что он собран 2 декабря 2019 года. То есть данные достаточно свежие, и относятся к предкоронавирусному, то есть предкризисному периоду. Данные содержат типичные характеристики машин, и их цену продажи, что в теории позволит выявить закономерности присущие всем рынкам по продаже машин."
   ]
  },
  {
   "cell_type": "markdown",
   "id": "ca445750",
   "metadata": {},
   "source": [
    "# Обработка датасета:"
   ]
  },
  {
   "cell_type": "code",
   "execution_count": 63,
   "id": "d3922317",
   "metadata": {},
   "outputs": [],
   "source": [
    "import pandas as pd\n",
    "import numpy as np\n",
    "import matplotlib.pyplot as plt\n",
    "import seaborn as sns\n",
    "import scipy.stats as stats\n",
    "from scipy import stats\n",
    "import pylab\n",
    "import scipy.stats"
   ]
  },
  {
   "cell_type": "code",
   "execution_count": 4,
   "id": "c0eb4768",
   "metadata": {},
   "outputs": [],
   "source": [
    "df = pd.read_csv('cars.csv')"
   ]
  },
  {
   "cell_type": "markdown",
   "id": "6c7065a1",
   "metadata": {},
   "source": [
    "Cырая таблица, загруженная с Kaggle:"
   ]
  },
  {
   "cell_type": "code",
   "execution_count": 5,
   "id": "2a65a5ee",
   "metadata": {},
   "outputs": [
    {
     "data": {
      "text/html": [
       "<div>\n",
       "<style scoped>\n",
       "    .dataframe tbody tr th:only-of-type {\n",
       "        vertical-align: middle;\n",
       "    }\n",
       "\n",
       "    .dataframe tbody tr th {\n",
       "        vertical-align: top;\n",
       "    }\n",
       "\n",
       "    .dataframe thead th {\n",
       "        text-align: right;\n",
       "    }\n",
       "</style>\n",
       "<table border=\"1\" class=\"dataframe\">\n",
       "  <thead>\n",
       "    <tr style=\"text-align: right;\">\n",
       "      <th></th>\n",
       "      <th>manufacturer_name</th>\n",
       "      <th>model_name</th>\n",
       "      <th>transmission</th>\n",
       "      <th>color</th>\n",
       "      <th>odometer_value</th>\n",
       "      <th>year_produced</th>\n",
       "      <th>engine_fuel</th>\n",
       "      <th>engine_has_gas</th>\n",
       "      <th>engine_type</th>\n",
       "      <th>engine_capacity</th>\n",
       "      <th>...</th>\n",
       "      <th>feature_1</th>\n",
       "      <th>feature_2</th>\n",
       "      <th>feature_3</th>\n",
       "      <th>feature_4</th>\n",
       "      <th>feature_5</th>\n",
       "      <th>feature_6</th>\n",
       "      <th>feature_7</th>\n",
       "      <th>feature_8</th>\n",
       "      <th>feature_9</th>\n",
       "      <th>duration_listed</th>\n",
       "    </tr>\n",
       "  </thead>\n",
       "  <tbody>\n",
       "    <tr>\n",
       "      <th>0</th>\n",
       "      <td>Subaru</td>\n",
       "      <td>Outback</td>\n",
       "      <td>automatic</td>\n",
       "      <td>silver</td>\n",
       "      <td>190000</td>\n",
       "      <td>2010</td>\n",
       "      <td>gasoline</td>\n",
       "      <td>False</td>\n",
       "      <td>gasoline</td>\n",
       "      <td>2.5</td>\n",
       "      <td>...</td>\n",
       "      <td>True</td>\n",
       "      <td>True</td>\n",
       "      <td>True</td>\n",
       "      <td>False</td>\n",
       "      <td>True</td>\n",
       "      <td>False</td>\n",
       "      <td>True</td>\n",
       "      <td>True</td>\n",
       "      <td>True</td>\n",
       "      <td>16</td>\n",
       "    </tr>\n",
       "    <tr>\n",
       "      <th>1</th>\n",
       "      <td>Subaru</td>\n",
       "      <td>Outback</td>\n",
       "      <td>automatic</td>\n",
       "      <td>blue</td>\n",
       "      <td>290000</td>\n",
       "      <td>2002</td>\n",
       "      <td>gasoline</td>\n",
       "      <td>False</td>\n",
       "      <td>gasoline</td>\n",
       "      <td>3.0</td>\n",
       "      <td>...</td>\n",
       "      <td>True</td>\n",
       "      <td>False</td>\n",
       "      <td>False</td>\n",
       "      <td>True</td>\n",
       "      <td>True</td>\n",
       "      <td>False</td>\n",
       "      <td>False</td>\n",
       "      <td>False</td>\n",
       "      <td>True</td>\n",
       "      <td>83</td>\n",
       "    </tr>\n",
       "    <tr>\n",
       "      <th>2</th>\n",
       "      <td>Subaru</td>\n",
       "      <td>Forester</td>\n",
       "      <td>automatic</td>\n",
       "      <td>red</td>\n",
       "      <td>402000</td>\n",
       "      <td>2001</td>\n",
       "      <td>gasoline</td>\n",
       "      <td>False</td>\n",
       "      <td>gasoline</td>\n",
       "      <td>2.5</td>\n",
       "      <td>...</td>\n",
       "      <td>True</td>\n",
       "      <td>False</td>\n",
       "      <td>False</td>\n",
       "      <td>False</td>\n",
       "      <td>False</td>\n",
       "      <td>False</td>\n",
       "      <td>False</td>\n",
       "      <td>True</td>\n",
       "      <td>True</td>\n",
       "      <td>151</td>\n",
       "    </tr>\n",
       "    <tr>\n",
       "      <th>3</th>\n",
       "      <td>Subaru</td>\n",
       "      <td>Impreza</td>\n",
       "      <td>mechanical</td>\n",
       "      <td>blue</td>\n",
       "      <td>10000</td>\n",
       "      <td>1999</td>\n",
       "      <td>gasoline</td>\n",
       "      <td>False</td>\n",
       "      <td>gasoline</td>\n",
       "      <td>3.0</td>\n",
       "      <td>...</td>\n",
       "      <td>False</td>\n",
       "      <td>False</td>\n",
       "      <td>False</td>\n",
       "      <td>False</td>\n",
       "      <td>False</td>\n",
       "      <td>False</td>\n",
       "      <td>False</td>\n",
       "      <td>False</td>\n",
       "      <td>False</td>\n",
       "      <td>86</td>\n",
       "    </tr>\n",
       "    <tr>\n",
       "      <th>4</th>\n",
       "      <td>Subaru</td>\n",
       "      <td>Legacy</td>\n",
       "      <td>automatic</td>\n",
       "      <td>black</td>\n",
       "      <td>280000</td>\n",
       "      <td>2001</td>\n",
       "      <td>gasoline</td>\n",
       "      <td>False</td>\n",
       "      <td>gasoline</td>\n",
       "      <td>2.5</td>\n",
       "      <td>...</td>\n",
       "      <td>True</td>\n",
       "      <td>False</td>\n",
       "      <td>True</td>\n",
       "      <td>True</td>\n",
       "      <td>False</td>\n",
       "      <td>False</td>\n",
       "      <td>False</td>\n",
       "      <td>False</td>\n",
       "      <td>True</td>\n",
       "      <td>7</td>\n",
       "    </tr>\n",
       "  </tbody>\n",
       "</table>\n",
       "<p>5 rows × 30 columns</p>\n",
       "</div>"
      ],
      "text/plain": [
       "  manufacturer_name model_name transmission   color  odometer_value  \\\n",
       "0            Subaru    Outback    automatic  silver          190000   \n",
       "1            Subaru    Outback    automatic    blue          290000   \n",
       "2            Subaru   Forester    automatic     red          402000   \n",
       "3            Subaru    Impreza   mechanical    blue           10000   \n",
       "4            Subaru     Legacy    automatic   black          280000   \n",
       "\n",
       "   year_produced engine_fuel  engine_has_gas engine_type  engine_capacity  \\\n",
       "0           2010    gasoline           False    gasoline              2.5   \n",
       "1           2002    gasoline           False    gasoline              3.0   \n",
       "2           2001    gasoline           False    gasoline              2.5   \n",
       "3           1999    gasoline           False    gasoline              3.0   \n",
       "4           2001    gasoline           False    gasoline              2.5   \n",
       "\n",
       "   ... feature_1  feature_2 feature_3 feature_4  feature_5  feature_6  \\\n",
       "0  ...      True       True      True     False       True      False   \n",
       "1  ...      True      False     False      True       True      False   \n",
       "2  ...      True      False     False     False      False      False   \n",
       "3  ...     False      False     False     False      False      False   \n",
       "4  ...      True      False      True      True      False      False   \n",
       "\n",
       "  feature_7  feature_8  feature_9  duration_listed  \n",
       "0      True       True       True               16  \n",
       "1     False      False       True               83  \n",
       "2     False       True       True              151  \n",
       "3     False      False      False               86  \n",
       "4     False      False       True                7  \n",
       "\n",
       "[5 rows x 30 columns]"
      ]
     },
     "execution_count": 5,
     "metadata": {},
     "output_type": "execute_result"
    }
   ],
   "source": [
    "df.head(5) "
   ]
  },
  {
   "cell_type": "markdown",
   "id": "c8153767",
   "metadata": {},
   "source": [
    "Убираем странные переменные:"
   ]
  },
  {
   "cell_type": "code",
   "execution_count": 6,
   "id": "a8cc8e5e",
   "metadata": {},
   "outputs": [],
   "source": [
    "df = df.drop(columns=[\"feature_0\", \"feature_1\", \"feature_2\", \"feature_3\", \"feature_4\", \"feature_5\", \"feature_6\", \"feature_7\",\n",
    "                 \"feature_8\", \"feature_9\"]) "
   ]
  },
  {
   "cell_type": "code",
   "execution_count": 7,
   "id": "41d4c95b",
   "metadata": {},
   "outputs": [
    {
     "data": {
      "text/html": [
       "<div>\n",
       "<style scoped>\n",
       "    .dataframe tbody tr th:only-of-type {\n",
       "        vertical-align: middle;\n",
       "    }\n",
       "\n",
       "    .dataframe tbody tr th {\n",
       "        vertical-align: top;\n",
       "    }\n",
       "\n",
       "    .dataframe thead th {\n",
       "        text-align: right;\n",
       "    }\n",
       "</style>\n",
       "<table border=\"1\" class=\"dataframe\">\n",
       "  <thead>\n",
       "    <tr style=\"text-align: right;\">\n",
       "      <th></th>\n",
       "      <th>manufacturer_name</th>\n",
       "      <th>model_name</th>\n",
       "      <th>transmission</th>\n",
       "      <th>color</th>\n",
       "      <th>odometer_value</th>\n",
       "      <th>year_produced</th>\n",
       "      <th>engine_fuel</th>\n",
       "      <th>engine_has_gas</th>\n",
       "      <th>engine_type</th>\n",
       "      <th>engine_capacity</th>\n",
       "      <th>body_type</th>\n",
       "      <th>has_warranty</th>\n",
       "      <th>state</th>\n",
       "      <th>drivetrain</th>\n",
       "      <th>price_usd</th>\n",
       "      <th>is_exchangeable</th>\n",
       "      <th>location_region</th>\n",
       "      <th>number_of_photos</th>\n",
       "      <th>up_counter</th>\n",
       "      <th>duration_listed</th>\n",
       "    </tr>\n",
       "  </thead>\n",
       "  <tbody>\n",
       "    <tr>\n",
       "      <th>0</th>\n",
       "      <td>Subaru</td>\n",
       "      <td>Outback</td>\n",
       "      <td>automatic</td>\n",
       "      <td>silver</td>\n",
       "      <td>190000</td>\n",
       "      <td>2010</td>\n",
       "      <td>gasoline</td>\n",
       "      <td>False</td>\n",
       "      <td>gasoline</td>\n",
       "      <td>2.5</td>\n",
       "      <td>universal</td>\n",
       "      <td>False</td>\n",
       "      <td>owned</td>\n",
       "      <td>all</td>\n",
       "      <td>10900.00</td>\n",
       "      <td>False</td>\n",
       "      <td>Минская обл.</td>\n",
       "      <td>9</td>\n",
       "      <td>13</td>\n",
       "      <td>16</td>\n",
       "    </tr>\n",
       "    <tr>\n",
       "      <th>1</th>\n",
       "      <td>Subaru</td>\n",
       "      <td>Outback</td>\n",
       "      <td>automatic</td>\n",
       "      <td>blue</td>\n",
       "      <td>290000</td>\n",
       "      <td>2002</td>\n",
       "      <td>gasoline</td>\n",
       "      <td>False</td>\n",
       "      <td>gasoline</td>\n",
       "      <td>3.0</td>\n",
       "      <td>universal</td>\n",
       "      <td>False</td>\n",
       "      <td>owned</td>\n",
       "      <td>all</td>\n",
       "      <td>5000.00</td>\n",
       "      <td>True</td>\n",
       "      <td>Минская обл.</td>\n",
       "      <td>12</td>\n",
       "      <td>54</td>\n",
       "      <td>83</td>\n",
       "    </tr>\n",
       "    <tr>\n",
       "      <th>2</th>\n",
       "      <td>Subaru</td>\n",
       "      <td>Forester</td>\n",
       "      <td>automatic</td>\n",
       "      <td>red</td>\n",
       "      <td>402000</td>\n",
       "      <td>2001</td>\n",
       "      <td>gasoline</td>\n",
       "      <td>False</td>\n",
       "      <td>gasoline</td>\n",
       "      <td>2.5</td>\n",
       "      <td>suv</td>\n",
       "      <td>False</td>\n",
       "      <td>owned</td>\n",
       "      <td>all</td>\n",
       "      <td>2800.00</td>\n",
       "      <td>True</td>\n",
       "      <td>Минская обл.</td>\n",
       "      <td>4</td>\n",
       "      <td>72</td>\n",
       "      <td>151</td>\n",
       "    </tr>\n",
       "    <tr>\n",
       "      <th>3</th>\n",
       "      <td>Subaru</td>\n",
       "      <td>Impreza</td>\n",
       "      <td>mechanical</td>\n",
       "      <td>blue</td>\n",
       "      <td>10000</td>\n",
       "      <td>1999</td>\n",
       "      <td>gasoline</td>\n",
       "      <td>False</td>\n",
       "      <td>gasoline</td>\n",
       "      <td>3.0</td>\n",
       "      <td>sedan</td>\n",
       "      <td>False</td>\n",
       "      <td>owned</td>\n",
       "      <td>all</td>\n",
       "      <td>9999.00</td>\n",
       "      <td>True</td>\n",
       "      <td>Минская обл.</td>\n",
       "      <td>9</td>\n",
       "      <td>42</td>\n",
       "      <td>86</td>\n",
       "    </tr>\n",
       "    <tr>\n",
       "      <th>4</th>\n",
       "      <td>Subaru</td>\n",
       "      <td>Legacy</td>\n",
       "      <td>automatic</td>\n",
       "      <td>black</td>\n",
       "      <td>280000</td>\n",
       "      <td>2001</td>\n",
       "      <td>gasoline</td>\n",
       "      <td>False</td>\n",
       "      <td>gasoline</td>\n",
       "      <td>2.5</td>\n",
       "      <td>universal</td>\n",
       "      <td>False</td>\n",
       "      <td>owned</td>\n",
       "      <td>all</td>\n",
       "      <td>2134.11</td>\n",
       "      <td>True</td>\n",
       "      <td>Гомельская обл.</td>\n",
       "      <td>14</td>\n",
       "      <td>7</td>\n",
       "      <td>7</td>\n",
       "    </tr>\n",
       "  </tbody>\n",
       "</table>\n",
       "</div>"
      ],
      "text/plain": [
       "  manufacturer_name model_name transmission   color  odometer_value  \\\n",
       "0            Subaru    Outback    automatic  silver          190000   \n",
       "1            Subaru    Outback    automatic    blue          290000   \n",
       "2            Subaru   Forester    automatic     red          402000   \n",
       "3            Subaru    Impreza   mechanical    blue           10000   \n",
       "4            Subaru     Legacy    automatic   black          280000   \n",
       "\n",
       "   year_produced engine_fuel  engine_has_gas engine_type  engine_capacity  \\\n",
       "0           2010    gasoline           False    gasoline              2.5   \n",
       "1           2002    gasoline           False    gasoline              3.0   \n",
       "2           2001    gasoline           False    gasoline              2.5   \n",
       "3           1999    gasoline           False    gasoline              3.0   \n",
       "4           2001    gasoline           False    gasoline              2.5   \n",
       "\n",
       "   body_type  has_warranty  state drivetrain  price_usd  is_exchangeable  \\\n",
       "0  universal         False  owned        all   10900.00            False   \n",
       "1  universal         False  owned        all    5000.00             True   \n",
       "2        suv         False  owned        all    2800.00             True   \n",
       "3      sedan         False  owned        all    9999.00             True   \n",
       "4  universal         False  owned        all    2134.11             True   \n",
       "\n",
       "   location_region  number_of_photos  up_counter  duration_listed  \n",
       "0     Минская обл.                 9          13               16  \n",
       "1     Минская обл.                12          54               83  \n",
       "2     Минская обл.                 4          72              151  \n",
       "3     Минская обл.                 9          42               86  \n",
       "4  Гомельская обл.                14           7                7  "
      ]
     },
     "execution_count": 7,
     "metadata": {},
     "output_type": "execute_result"
    }
   ],
   "source": [
    "df.head()"
   ]
  },
  {
   "cell_type": "markdown",
   "id": "74516487",
   "metadata": {},
   "source": [
    "__Какие закономерности могут быть в данных и какие закономерности интересно исследовать?__\n",
    "    \n",
    "1. Чем больше значение переменной пробег (`odometer_value`) , тем меньше цена машины.     \n",
    "\n",
    "2. Чем старше машина (`year_produced`), тем может быть ее цена меньше, хотя совершенно не факт.\n",
    "\n",
    "3. Интересно проследить, какая зависимость цены от типа бензина, на котром ездит машина (`engine_type`). В нашем исследовании мы будем рассматривать только 2 типа - это бензин и дизель. \n",
    "\n",
    "4. Скорее всего, чем больше литраж двигателя (`engine_capacity`), тем мощнее машина, и тем дороже она будет стоить.\n",
    "\n",
    "5. Интересно как влияет на цену количество фото в объявлении (`number_of_photos`).\n",
    "\n",
    "\n",
    "__Предположительные гипотезы:__ \n",
    "\n",
    "1. Можно проверить различие между переменными `engine_fuel` и `engine_type`. Нужно ли использовать обе, потому что кажется, что можно ограничится только `engine_type`\n",
    "2. Гипотезу на совместную незначимость коэффициентов "
   ]
  },
  {
   "cell_type": "markdown",
   "id": "07535460",
   "metadata": {},
   "source": [
    "Определяем категориальные и числовые переменные:"
   ]
  },
  {
   "cell_type": "code",
   "execution_count": 8,
   "id": "679327ab",
   "metadata": {},
   "outputs": [
    {
     "name": "stdout",
     "output_type": "stream",
     "text": [
      "Index(['odometer_value', 'year_produced', 'engine_capacity', 'price_usd',\n",
      "       'number_of_photos', 'up_counter', 'duration_listed'],\n",
      "      dtype='object')\n"
     ]
    },
    {
     "name": "stderr",
     "output_type": "stream",
     "text": [
      "C:\\Users\\lashm\\AppData\\Local\\Temp/ipykernel_4492/2934970324.py:1: DeprecationWarning: `np.int` is a deprecated alias for the builtin `int`. To silence this warning, use `int` by itself. Doing this will not modify any behavior and is safe. When replacing `np.int`, you may wish to use e.g. `np.int64` or `np.int32` to specify the precision. If you wish to review your current use, check the release note link for additional information.\n",
      "Deprecated in NumPy 1.20; for more details and guidance: https://numpy.org/devdocs/release/1.20.0-notes.html#deprecations\n",
      "  numeric_data = df.select_dtypes([np.number, np.int])\n"
     ]
    }
   ],
   "source": [
    "numeric_data = df.select_dtypes([np.number, np.int])\n",
    "numeric_features = numeric_data.columns\n",
    "print(numeric_features)"
   ]
  },
  {
   "cell_type": "code",
   "execution_count": 9,
   "id": "4238b45c",
   "metadata": {},
   "outputs": [
    {
     "name": "stdout",
     "output_type": "stream",
     "text": [
      "['manufacturer_name', 'model_name', 'transmission', 'color', 'engine_fuel', 'engine_has_gas', 'engine_type', 'body_type', 'has_warranty', 'state', 'drivetrain', 'is_exchangeable', 'location_region']\n"
     ]
    }
   ],
   "source": [
    "categorical = list(df.dtypes[(df.dtypes == \"object\") | (df.dtypes == \"bool\")].index)\n",
    "print(categorical)"
   ]
  },
  {
   "cell_type": "markdown",
   "id": "a8f67eb4",
   "metadata": {},
   "source": [
    "Убираем почти все категориальные переменные из исследования, оставляем дамми переменные:"
   ]
  },
  {
   "cell_type": "code",
   "execution_count": 10,
   "id": "c18b0aae",
   "metadata": {},
   "outputs": [],
   "source": [
    "df = df[['odometer_value', \n",
    "    'year_produced', \n",
    "    'engine_capacity', \n",
    "    'number_of_photos', \n",
    "    'duration_listed', \n",
    "     'transmission', \n",
    "     'engine_type',\n",
    "      \"engine_fuel\", # потенциально ненужный признак\n",
    "      \"engine_has_gas\", # потенциально ненужный признак\n",
    "     'has_warranty', \n",
    "     'is_exchangeable', \n",
    "     'price_usd']] # Y - зависимая переменная"
   ]
  },
  {
   "cell_type": "code",
   "execution_count": 11,
   "id": "34e5a89a",
   "metadata": {},
   "outputs": [
    {
     "data": {
      "text/plain": [
       "gasoline         24065\n",
       "diesel           12872\n",
       "gas               1347\n",
       "hybrid-petrol      235\n",
       "electric            10\n",
       "hybrid-diesel        2\n",
       "Name: engine_fuel, dtype: int64"
      ]
     },
     "execution_count": 11,
     "metadata": {},
     "output_type": "execute_result"
    }
   ],
   "source": [
    "df[\"engine_fuel\"].value_counts()"
   ]
  },
  {
   "cell_type": "markdown",
   "id": "7002d71d",
   "metadata": {},
   "source": [
    "Будем рассматривать только переменные `engine_fuel`, равные gasoline или diesel"
   ]
  },
  {
   "cell_type": "code",
   "execution_count": 12,
   "id": "15bf8106",
   "metadata": {},
   "outputs": [],
   "source": [
    "df = df[(df[\"engine_fuel\"] == \"gasoline\") | (df[\"engine_fuel\"] == \"diesel\")]"
   ]
  },
  {
   "cell_type": "markdown",
   "id": "4bcd6ce6",
   "metadata": {},
   "source": [
    "Переменная `engine_has_gas` получается неинформативной, удаляем её:"
   ]
  },
  {
   "cell_type": "code",
   "execution_count": 13,
   "id": "13a4a4fc",
   "metadata": {},
   "outputs": [
    {
     "data": {
      "text/plain": [
       "False    36937\n",
       "Name: engine_has_gas, dtype: int64"
      ]
     },
     "execution_count": 13,
     "metadata": {},
     "output_type": "execute_result"
    }
   ],
   "source": [
    "df[\"engine_has_gas\"].value_counts()"
   ]
  },
  {
   "cell_type": "code",
   "execution_count": 14,
   "id": "83c83ba2",
   "metadata": {},
   "outputs": [],
   "source": [
    "df = df.drop(columns = \"engine_has_gas\")"
   ]
  },
  {
   "cell_type": "code",
   "execution_count": 15,
   "id": "d484037a",
   "metadata": {},
   "outputs": [
    {
     "data": {
      "text/html": [
       "<div>\n",
       "<style scoped>\n",
       "    .dataframe tbody tr th:only-of-type {\n",
       "        vertical-align: middle;\n",
       "    }\n",
       "\n",
       "    .dataframe tbody tr th {\n",
       "        vertical-align: top;\n",
       "    }\n",
       "\n",
       "    .dataframe thead th {\n",
       "        text-align: right;\n",
       "    }\n",
       "</style>\n",
       "<table border=\"1\" class=\"dataframe\">\n",
       "  <thead>\n",
       "    <tr style=\"text-align: right;\">\n",
       "      <th></th>\n",
       "      <th>odometer_value</th>\n",
       "      <th>year_produced</th>\n",
       "      <th>engine_capacity</th>\n",
       "      <th>number_of_photos</th>\n",
       "      <th>duration_listed</th>\n",
       "      <th>transmission</th>\n",
       "      <th>engine_type</th>\n",
       "      <th>engine_fuel</th>\n",
       "      <th>has_warranty</th>\n",
       "      <th>is_exchangeable</th>\n",
       "      <th>price_usd</th>\n",
       "    </tr>\n",
       "  </thead>\n",
       "  <tbody>\n",
       "    <tr>\n",
       "      <th>0</th>\n",
       "      <td>190000</td>\n",
       "      <td>2010</td>\n",
       "      <td>2.5</td>\n",
       "      <td>9</td>\n",
       "      <td>16</td>\n",
       "      <td>automatic</td>\n",
       "      <td>gasoline</td>\n",
       "      <td>gasoline</td>\n",
       "      <td>False</td>\n",
       "      <td>False</td>\n",
       "      <td>10900.00</td>\n",
       "    </tr>\n",
       "    <tr>\n",
       "      <th>1</th>\n",
       "      <td>290000</td>\n",
       "      <td>2002</td>\n",
       "      <td>3.0</td>\n",
       "      <td>12</td>\n",
       "      <td>83</td>\n",
       "      <td>automatic</td>\n",
       "      <td>gasoline</td>\n",
       "      <td>gasoline</td>\n",
       "      <td>False</td>\n",
       "      <td>True</td>\n",
       "      <td>5000.00</td>\n",
       "    </tr>\n",
       "    <tr>\n",
       "      <th>2</th>\n",
       "      <td>402000</td>\n",
       "      <td>2001</td>\n",
       "      <td>2.5</td>\n",
       "      <td>4</td>\n",
       "      <td>151</td>\n",
       "      <td>automatic</td>\n",
       "      <td>gasoline</td>\n",
       "      <td>gasoline</td>\n",
       "      <td>False</td>\n",
       "      <td>True</td>\n",
       "      <td>2800.00</td>\n",
       "    </tr>\n",
       "    <tr>\n",
       "      <th>3</th>\n",
       "      <td>10000</td>\n",
       "      <td>1999</td>\n",
       "      <td>3.0</td>\n",
       "      <td>9</td>\n",
       "      <td>86</td>\n",
       "      <td>mechanical</td>\n",
       "      <td>gasoline</td>\n",
       "      <td>gasoline</td>\n",
       "      <td>False</td>\n",
       "      <td>True</td>\n",
       "      <td>9999.00</td>\n",
       "    </tr>\n",
       "    <tr>\n",
       "      <th>4</th>\n",
       "      <td>280000</td>\n",
       "      <td>2001</td>\n",
       "      <td>2.5</td>\n",
       "      <td>14</td>\n",
       "      <td>7</td>\n",
       "      <td>automatic</td>\n",
       "      <td>gasoline</td>\n",
       "      <td>gasoline</td>\n",
       "      <td>False</td>\n",
       "      <td>True</td>\n",
       "      <td>2134.11</td>\n",
       "    </tr>\n",
       "  </tbody>\n",
       "</table>\n",
       "</div>"
      ],
      "text/plain": [
       "   odometer_value  year_produced  engine_capacity  number_of_photos  \\\n",
       "0          190000           2010              2.5                 9   \n",
       "1          290000           2002              3.0                12   \n",
       "2          402000           2001              2.5                 4   \n",
       "3           10000           1999              3.0                 9   \n",
       "4          280000           2001              2.5                14   \n",
       "\n",
       "   duration_listed transmission engine_type engine_fuel  has_warranty  \\\n",
       "0               16    automatic    gasoline    gasoline         False   \n",
       "1               83    automatic    gasoline    gasoline         False   \n",
       "2              151    automatic    gasoline    gasoline         False   \n",
       "3               86   mechanical    gasoline    gasoline         False   \n",
       "4                7    automatic    gasoline    gasoline         False   \n",
       "\n",
       "   is_exchangeable  price_usd  \n",
       "0            False   10900.00  \n",
       "1             True    5000.00  \n",
       "2             True    2800.00  \n",
       "3             True    9999.00  \n",
       "4             True    2134.11  "
      ]
     },
     "execution_count": 15,
     "metadata": {},
     "output_type": "execute_result"
    }
   ],
   "source": [
    "df.head()"
   ]
  },
  {
   "cell_type": "code",
   "execution_count": 16,
   "id": "8280d123",
   "metadata": {},
   "outputs": [
    {
     "data": {
      "text/plain": [
       "False    23958\n",
       "True     12979\n",
       "Name: is_exchangeable, dtype: int64"
      ]
     },
     "execution_count": 16,
     "metadata": {},
     "output_type": "execute_result"
    }
   ],
   "source": [
    "df[\"is_exchangeable\"].value_counts()"
   ]
  },
  {
   "cell_type": "markdown",
   "id": "1a42ab20",
   "metadata": {},
   "source": [
    "Таким образом будем учитывать только машины, которые ездят либо на бензине, либо на дизеле в нашем исследовании"
   ]
  },
  {
   "cell_type": "markdown",
   "id": "97ca72f0",
   "metadata": {},
   "source": [
    "Преобразовываем переменные `transmission`, `engine_type`, `engine_fuel`, `has_warranty`, `is_exchangeable` в дамми переменые: "
   ]
  },
  {
   "cell_type": "code",
   "execution_count": 17,
   "id": "c5fc72d0",
   "metadata": {},
   "outputs": [],
   "source": [
    "# df = df[df[\"engine_type\"] != \"electric\"]\n",
    "filt1 = (df[\"transmission\"] == \"mechanical\")\n",
    "filt2 = (df[\"transmission\"] == \"automatic\")\n",
    "\n",
    "filt3 = (df[\"has_warranty\"] == True)\n",
    "filt4 = (df[\"has_warranty\"] == False)\n",
    "\n",
    "filt5 = (df[\"is_exchangeable\"] == True)\n",
    "filt6 = (df[\"is_exchangeable\"] == False)\n",
    "\n",
    "filt7 = (df[\"engine_type\"] == \"gasoline\")\n",
    "filt8 = (df[\"engine_type\"] == \"diesel\")\n",
    "\n",
    "filt9 = (df[\"engine_fuel\"] == \"gasoline\")\n",
    "filt10 = (df[\"engine_fuel\"] == \"diesel\")\n",
    "\n",
    "\n",
    "df.loc[filt1, \"transmission\"] = 1 #механич\n",
    "df.loc[filt2, \"transmission\"] = 0 #автомат\n",
    "\n",
    "df.loc[filt3, \"has_warranty\"] = 1 #да\n",
    "df.loc[filt4, \"has_warranty\"] = 0 #нет\n",
    "\n",
    "df.loc[filt5, \"is_exchangeable\"] = 1 #да\n",
    "df.loc[filt6, \"is_exchangeable\"] = 0 #нет\n",
    "\n",
    "df.loc[filt7, \"engine_type\"] = 1 #gasoline\n",
    "df.loc[filt8, \"engine_type\"] = 0 #diesel\n",
    "\n",
    "df.loc[filt9, \"engine_fuel\"] = 1 #gasoline\n",
    "df.loc[filt10, \"engine_fuel\"] = 0 #diesel"
   ]
  },
  {
   "cell_type": "code",
   "execution_count": 18,
   "id": "dc5c38ee",
   "metadata": {},
   "outputs": [
    {
     "data": {
      "text/html": [
       "<div>\n",
       "<style scoped>\n",
       "    .dataframe tbody tr th:only-of-type {\n",
       "        vertical-align: middle;\n",
       "    }\n",
       "\n",
       "    .dataframe tbody tr th {\n",
       "        vertical-align: top;\n",
       "    }\n",
       "\n",
       "    .dataframe thead th {\n",
       "        text-align: right;\n",
       "    }\n",
       "</style>\n",
       "<table border=\"1\" class=\"dataframe\">\n",
       "  <thead>\n",
       "    <tr style=\"text-align: right;\">\n",
       "      <th></th>\n",
       "      <th>odometer_value</th>\n",
       "      <th>year_produced</th>\n",
       "      <th>engine_capacity</th>\n",
       "      <th>number_of_photos</th>\n",
       "      <th>duration_listed</th>\n",
       "      <th>transmission</th>\n",
       "      <th>engine_type</th>\n",
       "      <th>engine_fuel</th>\n",
       "      <th>has_warranty</th>\n",
       "      <th>is_exchangeable</th>\n",
       "      <th>price_usd</th>\n",
       "    </tr>\n",
       "  </thead>\n",
       "  <tbody>\n",
       "    <tr>\n",
       "      <th>0</th>\n",
       "      <td>190000</td>\n",
       "      <td>2010</td>\n",
       "      <td>2.5</td>\n",
       "      <td>9</td>\n",
       "      <td>16</td>\n",
       "      <td>0</td>\n",
       "      <td>1</td>\n",
       "      <td>1</td>\n",
       "      <td>0</td>\n",
       "      <td>0</td>\n",
       "      <td>10900.00</td>\n",
       "    </tr>\n",
       "    <tr>\n",
       "      <th>1</th>\n",
       "      <td>290000</td>\n",
       "      <td>2002</td>\n",
       "      <td>3.0</td>\n",
       "      <td>12</td>\n",
       "      <td>83</td>\n",
       "      <td>0</td>\n",
       "      <td>1</td>\n",
       "      <td>1</td>\n",
       "      <td>0</td>\n",
       "      <td>1</td>\n",
       "      <td>5000.00</td>\n",
       "    </tr>\n",
       "    <tr>\n",
       "      <th>2</th>\n",
       "      <td>402000</td>\n",
       "      <td>2001</td>\n",
       "      <td>2.5</td>\n",
       "      <td>4</td>\n",
       "      <td>151</td>\n",
       "      <td>0</td>\n",
       "      <td>1</td>\n",
       "      <td>1</td>\n",
       "      <td>0</td>\n",
       "      <td>1</td>\n",
       "      <td>2800.00</td>\n",
       "    </tr>\n",
       "    <tr>\n",
       "      <th>3</th>\n",
       "      <td>10000</td>\n",
       "      <td>1999</td>\n",
       "      <td>3.0</td>\n",
       "      <td>9</td>\n",
       "      <td>86</td>\n",
       "      <td>1</td>\n",
       "      <td>1</td>\n",
       "      <td>1</td>\n",
       "      <td>0</td>\n",
       "      <td>1</td>\n",
       "      <td>9999.00</td>\n",
       "    </tr>\n",
       "    <tr>\n",
       "      <th>4</th>\n",
       "      <td>280000</td>\n",
       "      <td>2001</td>\n",
       "      <td>2.5</td>\n",
       "      <td>14</td>\n",
       "      <td>7</td>\n",
       "      <td>0</td>\n",
       "      <td>1</td>\n",
       "      <td>1</td>\n",
       "      <td>0</td>\n",
       "      <td>1</td>\n",
       "      <td>2134.11</td>\n",
       "    </tr>\n",
       "  </tbody>\n",
       "</table>\n",
       "</div>"
      ],
      "text/plain": [
       "   odometer_value  year_produced  engine_capacity  number_of_photos  \\\n",
       "0          190000           2010              2.5                 9   \n",
       "1          290000           2002              3.0                12   \n",
       "2          402000           2001              2.5                 4   \n",
       "3           10000           1999              3.0                 9   \n",
       "4          280000           2001              2.5                14   \n",
       "\n",
       "   duration_listed transmission engine_type engine_fuel has_warranty  \\\n",
       "0               16            0           1           1            0   \n",
       "1               83            0           1           1            0   \n",
       "2              151            0           1           1            0   \n",
       "3               86            1           1           1            0   \n",
       "4                7            0           1           1            0   \n",
       "\n",
       "  is_exchangeable  price_usd  \n",
       "0               0   10900.00  \n",
       "1               1    5000.00  \n",
       "2               1    2800.00  \n",
       "3               1    9999.00  \n",
       "4               1    2134.11  "
      ]
     },
     "execution_count": 18,
     "metadata": {},
     "output_type": "execute_result"
    }
   ],
   "source": [
    "df.head()"
   ]
  },
  {
   "cell_type": "markdown",
   "id": "94b0c37f",
   "metadata": {},
   "source": [
    "Оставляем только 1000 наблюдений:"
   ]
  },
  {
   "cell_type": "code",
   "execution_count": 19,
   "id": "1aa63a2d",
   "metadata": {},
   "outputs": [],
   "source": [
    "df = df.head(1000)"
   ]
  },
  {
   "cell_type": "code",
   "execution_count": 20,
   "id": "99c07e3b",
   "metadata": {},
   "outputs": [
    {
     "data": {
      "text/html": [
       "<div>\n",
       "<style scoped>\n",
       "    .dataframe tbody tr th:only-of-type {\n",
       "        vertical-align: middle;\n",
       "    }\n",
       "\n",
       "    .dataframe tbody tr th {\n",
       "        vertical-align: top;\n",
       "    }\n",
       "\n",
       "    .dataframe thead th {\n",
       "        text-align: right;\n",
       "    }\n",
       "</style>\n",
       "<table border=\"1\" class=\"dataframe\">\n",
       "  <thead>\n",
       "    <tr style=\"text-align: right;\">\n",
       "      <th></th>\n",
       "      <th>odometer_value</th>\n",
       "      <th>year_produced</th>\n",
       "      <th>engine_capacity</th>\n",
       "      <th>number_of_photos</th>\n",
       "      <th>duration_listed</th>\n",
       "      <th>price_usd</th>\n",
       "    </tr>\n",
       "  </thead>\n",
       "  <tbody>\n",
       "    <tr>\n",
       "      <th>count</th>\n",
       "      <td>1000.000000</td>\n",
       "      <td>1000.000000</td>\n",
       "      <td>1000.000000</td>\n",
       "      <td>1000.000000</td>\n",
       "      <td>1000.000000</td>\n",
       "      <td>1000.000000</td>\n",
       "    </tr>\n",
       "    <tr>\n",
       "      <th>mean</th>\n",
       "      <td>187199.721000</td>\n",
       "      <td>2006.220000</td>\n",
       "      <td>2.215300</td>\n",
       "      <td>10.213000</td>\n",
       "      <td>78.020000</td>\n",
       "      <td>7043.311020</td>\n",
       "    </tr>\n",
       "    <tr>\n",
       "      <th>std</th>\n",
       "      <td>125183.040352</td>\n",
       "      <td>7.687307</td>\n",
       "      <td>0.638046</td>\n",
       "      <td>6.534089</td>\n",
       "      <td>112.764345</td>\n",
       "      <td>5490.390942</td>\n",
       "    </tr>\n",
       "    <tr>\n",
       "      <th>min</th>\n",
       "      <td>0.000000</td>\n",
       "      <td>1977.000000</td>\n",
       "      <td>1.000000</td>\n",
       "      <td>1.000000</td>\n",
       "      <td>0.000000</td>\n",
       "      <td>120.000000</td>\n",
       "    </tr>\n",
       "    <tr>\n",
       "      <th>25%</th>\n",
       "      <td>93835.500000</td>\n",
       "      <td>2001.000000</td>\n",
       "      <td>1.700000</td>\n",
       "      <td>6.000000</td>\n",
       "      <td>19.000000</td>\n",
       "      <td>2900.000000</td>\n",
       "    </tr>\n",
       "    <tr>\n",
       "      <th>50%</th>\n",
       "      <td>180000.000000</td>\n",
       "      <td>2007.000000</td>\n",
       "      <td>2.000000</td>\n",
       "      <td>9.000000</td>\n",
       "      <td>57.000000</td>\n",
       "      <td>6000.000000</td>\n",
       "    </tr>\n",
       "    <tr>\n",
       "      <th>75%</th>\n",
       "      <td>263223.750000</td>\n",
       "      <td>2013.000000</td>\n",
       "      <td>2.500000</td>\n",
       "      <td>14.000000</td>\n",
       "      <td>88.000000</td>\n",
       "      <td>9900.000000</td>\n",
       "    </tr>\n",
       "    <tr>\n",
       "      <th>max</th>\n",
       "      <td>1000000.000000</td>\n",
       "      <td>2019.000000</td>\n",
       "      <td>5.900000</td>\n",
       "      <td>56.000000</td>\n",
       "      <td>1322.000000</td>\n",
       "      <td>35900.000000</td>\n",
       "    </tr>\n",
       "  </tbody>\n",
       "</table>\n",
       "</div>"
      ],
      "text/plain": [
       "       odometer_value  year_produced  engine_capacity  number_of_photos  \\\n",
       "count     1000.000000    1000.000000      1000.000000       1000.000000   \n",
       "mean    187199.721000    2006.220000         2.215300         10.213000   \n",
       "std     125183.040352       7.687307         0.638046          6.534089   \n",
       "min          0.000000    1977.000000         1.000000          1.000000   \n",
       "25%      93835.500000    2001.000000         1.700000          6.000000   \n",
       "50%     180000.000000    2007.000000         2.000000          9.000000   \n",
       "75%     263223.750000    2013.000000         2.500000         14.000000   \n",
       "max    1000000.000000    2019.000000         5.900000         56.000000   \n",
       "\n",
       "       duration_listed     price_usd  \n",
       "count      1000.000000   1000.000000  \n",
       "mean         78.020000   7043.311020  \n",
       "std         112.764345   5490.390942  \n",
       "min           0.000000    120.000000  \n",
       "25%          19.000000   2900.000000  \n",
       "50%          57.000000   6000.000000  \n",
       "75%          88.000000   9900.000000  \n",
       "max        1322.000000  35900.000000  "
      ]
     },
     "execution_count": 20,
     "metadata": {},
     "output_type": "execute_result"
    }
   ],
   "source": [
    "df.describe() #статистики датасета"
   ]
  },
  {
   "cell_type": "code",
   "execution_count": 21,
   "id": "fd4b1dbd",
   "metadata": {},
   "outputs": [],
   "source": [
    "df.to_csv('original_data.csv') #датасет для исследования"
   ]
  },
  {
   "cell_type": "markdown",
   "id": "e4d05319",
   "metadata": {},
   "source": [
    "### Описание переменных датасета:"
   ]
  },
  {
   "cell_type": "markdown",
   "id": "a6d65d85",
   "metadata": {},
   "source": [
    "__Зависимая переменная:__ <br>\n",
    "`price_usd` - Цена машины в USD (долларах) <br>\n",
    "\n",
    "__Независимые переменные (количественные):__  <br>\n",
    "1. `odometer_value` - Пробег в км <br>\n",
    "2. `year_produced` - Год производства машины <br>\n",
    "3. `engine_capacity` - Объем двигателя в литрах<br>\n",
    "4. `number_of_photos` - Кол-во фото в объявлении<br>\n",
    "5. `duration_listed` - Кол-во дней, которое объявление висит на сатйте <br>\n",
    "\n",
    "__Независимые переменные(дамми):__<br>\n",
    "1. `transmission` [тип трансмисси] - (1 - mechanical, 0 - automatic)<br>\n",
    "2. `engine_type` [тип двигателя] - (1 - gasoline, 0 - diesel)<br>\n",
    "3. `engine_fuel` [тип бензина] - (1 - gasoline, 0 - diesel)<br>\n",
    "4. `color` [цвет машины] - (1 - black, 0 - silver)    <br>\n",
    "5. `has_warranty` [страховка] - (1 - True, 0 - False)<br>\n",
    "6. `is_exchangeable` [владелец согласен обменять свою машину на другую, с доплатой или без] - (1 - True, 0 - False)<br>\n",
    "\n",
    " \n",
    "Данные на 2 декабря 2019 года.                                                                                                                                    \""
   ]
  },
  {
   "cell_type": "markdown",
   "id": "ee75dc5b",
   "metadata": {},
   "source": [
    "### Проверка данных на нормальность:"
   ]
  },
  {
   "cell_type": "code",
   "execution_count": 22,
   "id": "a5363e38",
   "metadata": {},
   "outputs": [
    {
     "data": {
      "image/png": "[encoded data removed]",
      "text/plain": [
       "<Figure size 864x576 with 1 Axes>"
      ]
     },
     "metadata": {
      "needs_background": "light"
     },
     "output_type": "display_data"
    }
   ],
   "source": [
    "fig, ax = plt.subplots(figsize=(12, 8))\n",
    "ax.set_title('Распределение зависимой переменной (price_usd) в выборке', fontsize=15)\n",
    "sns.histplot(df[\"price_usd\"], bins=100, ax=ax, color='red', edgecolor=\"darkred\")\n",
    "plt.grid()\n",
    "plt.show()"
   ]
  },
  {
   "cell_type": "markdown",
   "id": "7fe4bfd8",
   "metadata": {},
   "source": [
    "Видим, что Y не распределен нормально."
   ]
  },
  {
   "cell_type": "markdown",
   "id": "3ef01576",
   "metadata": {},
   "source": [
    "Также можно построить QQ-plot:\n",
    "\n",
    "Тест взят отсюда: https://www.statology.org/normality-test-python/"
   ]
  },
  {
   "cell_type": "code",
   "execution_count": 23,
   "id": "edfc616b",
   "metadata": {},
   "outputs": [
    {
     "data": {
      "image/png": "[encoded data removed]",
      "text/plain": [
       "<Figure size 432x288 with 1 Axes>"
      ]
     },
     "metadata": {
      "needs_background": "light"
     },
     "output_type": "display_data"
    }
   ],
   "source": [
    "stats.probplot(df[\"price_usd\"], dist=\"norm\", plot=pylab) ##QQ Plot\n",
    "pylab.show()"
   ]
  },
  {
   "cell_type": "markdown",
   "id": "4760d0da",
   "metadata": {},
   "source": [
    "Видим также, что Y не распределен нормально (не лежит на прямой)"
   ]
  },
  {
   "cell_type": "markdown",
   "id": "132d303a",
   "metadata": {},
   "source": [
    "__Построим также boxplot графики для дамми-переменных и зависимой переменной:__"
   ]
  },
  {
   "cell_type": "code",
   "execution_count": 24,
   "id": "016d2f78",
   "metadata": {},
   "outputs": [
    {
     "data": {
      "image/png": "[encoded data removed]",
      "text/plain": [
       "<Figure size 792x432 with 1 Axes>"
      ]
     },
     "metadata": {
      "needs_background": "light"
     },
     "output_type": "display_data"
    }
   ],
   "source": [
    "plt.figure(figsize = (11, 6))\n",
    "plt.title('График распределения цены автомобиля в зависимости от типа трансмиссии', fontsize=15)\n",
    "plt.xlabel('transmission', fontsize=13)\n",
    "plt.ylabel('price_usd', fontsize=13)\n",
    "sns.boxplot(data=df, y=\"price_usd\", x=\"transmission\")\n",
    "plt.yticks(np.arange(0, max(df[\"price_usd\"]+5000), 5000))\n",
    "plt.show()"
   ]
  },
  {
   "cell_type": "markdown",
   "id": "1277c936",
   "metadata": {},
   "source": [
    "Мы видим, что медианная цена автомобилей с механической коробкой передач (дамми - 1) ниже, чем у автомобилей с автоматической коробкой передач. \n",
    "А также 75% автомобилей с автоматической коробкой передач стоят не дороже 13000$.  \n",
    "\n",
    "Тогда как 75% автомобилей с механической коробкой передач стоят не дороже 10000$\n",
    "\n",
    "При этом мы видим, что очень много точек лежит за пределами \"усов\" у автоматической коробки передач (много выбросов). "
   ]
  },
  {
   "cell_type": "code",
   "execution_count": 25,
   "id": "17d06ee2",
   "metadata": {},
   "outputs": [
    {
     "data": {
      "image/png": "[encoded data removed]",
      "text/plain": [
       "<Figure size 792x432 with 1 Axes>"
      ]
     },
     "metadata": {
      "needs_background": "light"
     },
     "output_type": "display_data"
    }
   ],
   "source": [
    "plt.figure(figsize = (11, 6))\n",
    "plt.title('График распределения цены автомобиля в зависимости от типа двигателя', fontsize=15)\n",
    "plt.xlabel('transmission', fontsize=13)\n",
    "plt.ylabel('price_usd', fontsize=13)\n",
    "sns.boxplot(data=df, y=\"price_usd\", x=\"engine_type\")\n",
    "plt.yticks(np.arange(0, max(df[\"price_usd\"]+5000), 5000))\n",
    "plt.show()"
   ]
  },
  {
   "cell_type": "markdown",
   "id": "338f5f22",
   "metadata": {},
   "source": [
    "Видим, что машины с дизельным двигателем (дамми 0) находятся в более узком диапазаоне цен, чем машины с бензиновым двигателем (дамми 1)."
   ]
  },
  {
   "cell_type": "code",
   "execution_count": 26,
   "id": "8b09b640",
   "metadata": {},
   "outputs": [
    {
     "data": {
      "image/png": "[encoded data removed]",
      "text/plain": [
       "<Figure size 792x432 with 1 Axes>"
      ]
     },
     "metadata": {
      "needs_background": "light"
     },
     "output_type": "display_data"
    }
   ],
   "source": [
    "plt.figure(figsize = (11, 6))\n",
    "plt.title('График распределения цены автомобиля в зависимости от типа бензина', fontsize=15)\n",
    "plt.xlabel('transmission', fontsize=13)\n",
    "plt.ylabel('price_usd', fontsize=13)\n",
    "sns.boxplot(data=df, y=\"price_usd\", x=\"engine_fuel\")\n",
    "plt.yticks(np.arange(0, max(df[\"price_usd\"]+5000), 5000))\n",
    "plt.show()"
   ]
  },
  {
   "cell_type": "markdown",
   "id": "53e90e4b",
   "metadata": {},
   "source": [
    "Та же самая картина для топлива для двигателя, что и на графике выше"
   ]
  },
  {
   "cell_type": "code",
   "execution_count": 27,
   "id": "b4df2022",
   "metadata": {},
   "outputs": [
    {
     "data": {
      "image/png": "[encoded data removed]",
      "text/plain": [
       "<Figure size 792x432 with 1 Axes>"
      ]
     },
     "metadata": {
      "needs_background": "light"
     },
     "output_type": "display_data"
    }
   ],
   "source": [
    "plt.figure(figsize = (11, 6))\n",
    "plt.title('График распределения цены автомобиля в зависимости от наличия страховки', fontsize=15)\n",
    "plt.xlabel('transmission', fontsize=13)\n",
    "plt.ylabel('price_usd', fontsize=13)\n",
    "sns.boxplot(data=df, y=\"price_usd\", x=\"has_warranty\")\n",
    "plt.yticks(np.arange(0, max(df[\"price_usd\"]+5000), 5000))\n",
    "plt.show()"
   ]
  },
  {
   "cell_type": "markdown",
   "id": "f35aab60",
   "metadata": {},
   "source": [
    "Видим, что машины, которые имеют страховку стоят очевидно дороже тех, которые страховку не имеют. Их медианная цена примерно равна 12 тыс. долларов, тогда как у машин без страховки - всего 6 тыс. долларов. Возможно, на сайтах продавались более дорогие машины, которые имели страховку. Также видим, что большое количество выбросов у машин, которые не имеют страховку."
   ]
  },
  {
   "cell_type": "code",
   "execution_count": 28,
   "id": "8ae482b3",
   "metadata": {},
   "outputs": [
    {
     "data": {
      "image/png": "[encoded data removed]",
      "text/plain": [
       "<Figure size 792x432 with 1 Axes>"
      ]
     },
     "metadata": {
      "needs_background": "light"
     },
     "output_type": "display_data"
    }
   ],
   "source": [
    "plt.figure(figsize = (11, 6))\n",
    "plt.title('График распределения цены автомобиля в зависимости от того, доступен ли обмен или нет', fontsize=15)\n",
    "plt.xlabel('transmission', fontsize=13)\n",
    "plt.ylabel('price_usd', fontsize=13)\n",
    "sns.boxplot(data=df, y=\"price_usd\", x=\"is_exchangeable\")\n",
    "plt.yticks(np.arange(0, max(df[\"price_usd\"]+5000), 5000))\n",
    "plt.show()"
   ]
  },
  {
   "cell_type": "markdown",
   "id": "97b24b1d",
   "metadata": {},
   "source": [
    "Видим, что наличие возможности обмена почти не различается в цене, но медианная цена машин, которые доступны для обмена немного ниже."
   ]
  },
  {
   "cell_type": "markdown",
   "id": "e123583d",
   "metadata": {},
   "source": [
    "__Построим scatter графики:__"
   ]
  },
  {
   "cell_type": "code",
   "execution_count": 29,
   "id": "43362196",
   "metadata": {},
   "outputs": [
    {
     "data": {
      "image/png": "[encoded data removed]",
      "text/plain": [
       "<Figure size 648x432 with 1 Axes>"
      ]
     },
     "metadata": {
      "needs_background": "light"
     },
     "output_type": "display_data"
    }
   ],
   "source": [
    "plt.figure(figsize = (9, 6))\n",
    "plt.title('График зависимости цены автомобиля от пробега', fontsize=15)\n",
    "plt.xlabel('Пробег в км', fontsize=13)\n",
    "plt.ylabel('price_usd', fontsize=13)\n",
    " \n",
    "plt.scatter(x = df[\"odometer_value\"], y = df[\"price_usd\"], alpha=0.5 , label =\"odometer_value\");    "
   ]
  },
  {
   "cell_type": "markdown",
   "id": "be6d27d5",
   "metadata": {},
   "source": [
    "*$1e6 = 10^6$. Видим, что цена машины уменьшается пропорционально увеличению пробега машины."
   ]
  },
  {
   "cell_type": "code",
   "execution_count": 30,
   "id": "8e595e08",
   "metadata": {},
   "outputs": [
    {
     "data": {
      "image/png": "[encoded data removed]",
      "text/plain": [
       "<Figure size 648x432 with 1 Axes>"
      ]
     },
     "metadata": {
      "needs_background": "light"
     },
     "output_type": "display_data"
    }
   ],
   "source": [
    "plt.figure(figsize = (9, 6))\n",
    "plt.title('График зависимости цены автомобиля от года его производства', fontsize=15)\n",
    "plt.xlabel('Год производства', fontsize=13)\n",
    "plt.ylabel('price_usd', fontsize=13)\n",
    " \n",
    "plt.scatter(x = df[\"year_produced\"], y = df[\"price_usd\"], alpha=0.5 , label =\"odometer_value\");    "
   ]
  },
  {
   "cell_type": "markdown",
   "id": "413ee0f8",
   "metadata": {},
   "source": [
    "Видим, что чем новее автомобиль, тем он вероятнее всего дороже стоит, но есть выбросы - видимо ретро автомобили"
   ]
  },
  {
   "cell_type": "code",
   "execution_count": 31,
   "id": "6a28ab14",
   "metadata": {},
   "outputs": [
    {
     "data": {
      "image/png": "[encoded data removed]",
      "text/plain": [
       "<Figure size 648x432 with 1 Axes>"
      ]
     },
     "metadata": {
      "needs_background": "light"
     },
     "output_type": "display_data"
    }
   ],
   "source": [
    "plt.figure(figsize = (9, 6))\n",
    "plt.title('График зависимости цены автомобиля от объема двигателя', fontsize=15)\n",
    "plt.xlabel('Объем двигателя в литрах', fontsize=13)\n",
    "plt.ylabel('price_usd', fontsize=13)\n",
    " \n",
    "plt.scatter(x = df[\"engine_capacity\"], y = df[\"price_usd\"], alpha=0.5 , label =\"odometer_value\");    "
   ]
  },
  {
   "cell_type": "markdown",
   "id": "0aca0e95",
   "metadata": {},
   "source": [
    "Видим, что большинство машин имеют двигатель 1-4 литра, а самые дорогие машины имеют двигатель объемом 3 литра"
   ]
  },
  {
   "cell_type": "code",
   "execution_count": 32,
   "id": "80fcd59d",
   "metadata": {},
   "outputs": [
    {
     "data": {
      "image/png": "[encoded data removed]",
      "text/plain": [
       "<Figure size 648x432 with 1 Axes>"
      ]
     },
     "metadata": {
      "needs_background": "light"
     },
     "output_type": "display_data"
    }
   ],
   "source": [
    "plt.figure(figsize = (9, 6))\n",
    "plt.title('График зависимости цены автомобиля от количества фотографий', fontsize=15)\n",
    "plt.xlabel('Количество фото машины в объявлении', fontsize=13)\n",
    "plt.ylabel('price_usd', fontsize=13)\n",
    " \n",
    "plt.scatter(x = df[\"number_of_photos\"], y = df[\"price_usd\"], alpha=0.5 , label =\"odometer_value\");   "
   ]
  },
  {
   "cell_type": "markdown",
   "id": "a53ff4a1",
   "metadata": {},
   "source": [
    "Видим, что в основном количество фотографий не превышает 30, но цена в этих пределах может быть практически любая, судя по графику"
   ]
  },
  {
   "cell_type": "code",
   "execution_count": 33,
   "id": "d0dafac0",
   "metadata": {},
   "outputs": [
    {
     "data": {
      "image/png": "[encoded data removed]",
      "text/plain": [
       "<Figure size 648x432 with 1 Axes>"
      ]
     },
     "metadata": {
      "needs_background": "light"
     },
     "output_type": "display_data"
    }
   ],
   "source": [
    "plt.figure(figsize = (9, 6))\n",
    "plt.title('График зависимости цены автомобиля от кол-ва дней, которое висело объявление', fontsize=15)\n",
    "plt.xlabel('Количество дней, которое провисело объявление машины на сайте', fontsize=13)\n",
    "plt.ylabel('price_usd', fontsize=13)\n",
    " \n",
    "plt.scatter(x = df[\"duration_listed\"], y = df[\"price_usd\"], alpha=0.5 , label =\"odometer_value\");  "
   ]
  },
  {
   "cell_type": "markdown",
   "id": "a74b80ea",
   "metadata": {},
   "source": [
    "Можем увидеть, что в основном все дорогие машины покупают за относительно меньшее количество дней, и далее дорогие машины не покупаются, если объявление долго висит."
   ]
  },
  {
   "cell_type": "code",
   "execution_count": null,
   "id": "3398d04b",
   "metadata": {},
   "outputs": [],
   "source": []
  },
  {
   "cell_type": "markdown",
   "id": "a9453b34",
   "metadata": {},
   "source": [
    "# Выбор между моделями:"
   ]
  },
  {
   "cell_type": "code",
   "execution_count": 34,
   "id": "e9c17d3d",
   "metadata": {},
   "outputs": [],
   "source": [
    "import statsmodels.api as sm"
   ]
  },
  {
   "cell_type": "code",
   "execution_count": 35,
   "id": "cc4b21b7",
   "metadata": {},
   "outputs": [],
   "source": [
    "from statsmodels.formula.api import ols\n",
    "# Analysis of Variance (ANOVA) on linear models\n",
    "from statsmodels.stats.anova import anova_lm"
   ]
  },
  {
   "cell_type": "markdown",
   "id": "f2a80644",
   "metadata": {},
   "source": [
    "### Тест Зарембки"
   ]
  },
  {
   "cell_type": "code",
   "execution_count": 36,
   "id": "bfb3fd6b",
   "metadata": {},
   "outputs": [],
   "source": [
    "from scipy.stats import gmean"
   ]
  },
  {
   "cell_type": "code",
   "execution_count": 37,
   "id": "fdd7b0f9",
   "metadata": {},
   "outputs": [],
   "source": [
    "df3 = df.copy()\n",
    "\n",
    "df3[\"price_usd\"] = df3[\"price_usd\"] / gmean(df3[\"price_usd\"])\n",
    "df3 = df3.rename(columns = {\"price_usd\" : \"price_usd_gmean\"})"
   ]
  },
  {
   "cell_type": "markdown",
   "id": "e2586fb7",
   "metadata": {},
   "source": [
    "Рассчитываем следующую линейную регрессию: <br>\n",
    "<img src=\"https://i.imgur.com/BpOA39q.png\" alt=\"Drawing\" style=\"width: 250px;\"/>"
   ]
  },
  {
   "cell_type": "code",
   "execution_count": 38,
   "id": "a8a53c3a",
   "metadata": {},
   "outputs": [],
   "source": [
    "model1 = ols(\n",
    "    \"price_usd_gmean ~ odometer_value + year_produced + engine_capacity + number_of_photos + duration_listed + transmission + engine_type + has_warranty + is_exchangeable\", \n",
    "            df3).fit()"
   ]
  },
  {
   "cell_type": "markdown",
   "id": "cce2b0a7",
   "metadata": {},
   "source": [
    "Рассчитываем следующую логарифмическую регрессию: <br>\n",
    "<img src=\"https://i.imgur.com/EGKk36V.png\" alt=\"Drawing\" style=\"width: 300px;\"/>"
   ]
  },
  {
   "cell_type": "code",
   "execution_count": 39,
   "id": "d22bfed8",
   "metadata": {},
   "outputs": [],
   "source": [
    "df3[\"log_price_usd_gmean\"] = np.log(df3[\"price_usd_gmean\"])"
   ]
  },
  {
   "cell_type": "code",
   "execution_count": 40,
   "id": "934a5e31",
   "metadata": {},
   "outputs": [],
   "source": [
    "model2 = ols(\n",
    "    \"log_price_usd_gmean ~ odometer_value + year_produced + engine_capacity + number_of_photos + duration_listed + transmission + engine_type + has_warranty + is_exchangeable\", \n",
    "            df3).fit()"
   ]
  },
  {
   "cell_type": "markdown",
   "id": "b9eb0a48",
   "metadata": {},
   "source": [
    "Вычисляем Хи квадрат статистику: <br>\n",
    "<img src=\"https://i.imgur.com/wvpc0Ea.png\" alt=\"Drawing\" style=\"width: 300px;\"/>"
   ]
  },
  {
   "cell_type": "code",
   "execution_count": 41,
   "id": "be979e14",
   "metadata": {},
   "outputs": [],
   "source": [
    "rss1 = model1.ssr\n",
    "rss2 = model2.ssr\n",
    "n = df.shape[0]\n",
    "chi_stat = (n/2)*np.absolute(np.log(rss1/rss2))"
   ]
  },
  {
   "cell_type": "code",
   "execution_count": 42,
   "id": "a5e9ad44",
   "metadata": {},
   "outputs": [
    {
     "data": {
      "text/plain": [
       "410.6362661178179"
      ]
     },
     "execution_count": 42,
     "metadata": {},
     "output_type": "execute_result"
    }
   ],
   "source": [
    "chi_stat "
   ]
  },
  {
   "cell_type": "markdown",
   "id": "026d0f58",
   "metadata": {},
   "source": [
    "Полученный результат намного больше $Хи_{crit}$. Значит $H_0$ отвергается и между линейной и полулогарифмической моделью есть различия, а значит предпочтительнее использовать ту модель, у которой меньше RSS. (Полулогарифмическую модель, так как у нее меньше RSS.) \n",
    "\n",
    "Оценим модели:"
   ]
  },
  {
   "cell_type": "markdown",
   "id": "ff9b2bf2",
   "metadata": {},
   "source": [
    "### Линейная модель:"
   ]
  },
  {
   "cell_type": "code",
   "execution_count": 72,
   "id": "4e125a45",
   "metadata": {},
   "outputs": [
    {
     "name": "stdout",
     "output_type": "stream",
     "text": [
      "                            OLS Regression Results                            \n",
      "==============================================================================\n",
      "Dep. Variable:              price_usd   R-squared:                       0.626\n",
      "Model:                            OLS   Adj. R-squared:                  0.622\n",
      "Method:                 Least Squares   F-statistic:                     183.8\n",
      "Date:                Sun, 11 Dec 2022   Prob (F-statistic):          2.82e-204\n",
      "Time:                        23:05:53   Log-Likelihood:                -9538.0\n",
      "No. Observations:                1000   AIC:                         1.910e+04\n",
      "Df Residuals:                     990   BIC:                         1.914e+04\n",
      "Df Model:                           9                                         \n",
      "Covariance Type:            nonrobust                                         \n",
      "========================================================================================\n",
      "                           coef    std err          t      P>|t|      [0.025      0.975]\n",
      "----------------------------------------------------------------------------------------\n",
      "Intercept            -8.832e+05   3.48e+04    -25.403      0.000   -9.51e+05   -8.15e+05\n",
      "transmission[T.1]    -1554.9683    246.295     -6.313      0.000   -2038.288   -1071.648\n",
      "engine_type[T.1]     -1210.6363    374.444     -3.233      0.001   -1945.432    -475.841\n",
      "has_warranty[T.1]      737.2306   1039.473      0.709      0.478   -1302.594    2777.055\n",
      "is_exchangeable[T.1]  -125.9729    224.873     -0.560      0.575    -567.255     315.309\n",
      "odometer_value          -0.0085      0.001     -8.156      0.000      -0.011      -0.006\n",
      "year_produced          442.6037     17.238     25.677      0.000     408.777     476.430\n",
      "engine_capacity       2056.9320    191.810     10.724      0.000    1680.532    2433.332\n",
      "number_of_photos       106.0276     17.362      6.107      0.000      71.956     140.099\n",
      "duration_listed          0.9180      0.958      0.958      0.338      -0.962       2.798\n",
      "==============================================================================\n",
      "Omnibus:                      354.997   Durbin-Watson:                   1.711\n",
      "Prob(Omnibus):                  0.000   Jarque-Bera (JB):             1718.795\n",
      "Skew:                           1.579   Prob(JB):                         0.00\n",
      "Kurtosis:                       8.593   Cond. No.                     7.34e+07\n",
      "==============================================================================\n",
      "\n",
      "Notes:\n",
      "[1] Standard Errors assume that the covariance matrix of the errors is correctly specified.\n",
      "[2] The condition number is large, 7.34e+07. This might indicate that there are\n",
      "strong multicollinearity or other numerical problems.\n"
     ]
    }
   ],
   "source": [
    "model1 = ols(\n",
    "    \"price_usd ~ odometer_value + year_produced + engine_capacity + number_of_photos + duration_listed + transmission + engine_type + has_warranty + is_exchangeable\", \n",
    "            df).fit()\n",
    "\n",
    "print(model1.summary())"
   ]
  },
  {
   "cell_type": "markdown",
   "id": "507ffc35",
   "metadata": {},
   "source": [
    "### Полулогарифмическая модель:"
   ]
  },
  {
   "cell_type": "markdown",
   "id": "84c1792e",
   "metadata": {},
   "source": [
    "*Используем log(1+x) логарифмирование, так как в независимых переменных есть нули, и мы не сможем сравнить модели далее"
   ]
  },
  {
   "cell_type": "code",
   "execution_count": 73,
   "id": "9d64f7b9",
   "metadata": {},
   "outputs": [
    {
     "name": "stdout",
     "output_type": "stream",
     "text": [
      "                            OLS Regression Results                            \n",
      "==============================================================================\n",
      "Dep. Variable:          log_price_usd   R-squared:                       0.754\n",
      "Model:                            OLS   Adj. R-squared:                  0.752\n",
      "Method:                 Least Squares   F-statistic:                     337.6\n",
      "Date:                Sun, 11 Dec 2022   Prob (F-statistic):          1.78e-294\n",
      "Time:                        23:06:07   Log-Likelihood:                -595.31\n",
      "No. Observations:                1000   AIC:                             1211.\n",
      "Df Residuals:                     990   BIC:                             1260.\n",
      "Df Model:                           9                                         \n",
      "Covariance Type:            nonrobust                                         \n",
      "========================================================================================\n",
      "                           coef    std err          t      P>|t|      [0.025      0.975]\n",
      "----------------------------------------------------------------------------------------\n",
      "Intercept             -171.9542      4.544    -37.844      0.000    -180.871    -163.038\n",
      "transmission[T.1]       -0.2119      0.032     -6.583      0.000      -0.275      -0.149\n",
      "engine_type[T.1]        -0.2824      0.049     -5.770      0.000      -0.378      -0.186\n",
      "has_warranty[T.1]        0.0678      0.136      0.499      0.618      -0.199       0.334\n",
      "is_exchangeable[T.1]    -0.0427      0.029     -1.454      0.146      -0.100       0.015\n",
      "odometer_value       -5.646e-07   1.36e-07     -4.157      0.000   -8.31e-07   -2.98e-07\n",
      "year_produced            0.0898      0.002     39.855      0.000       0.085       0.094\n",
      "engine_capacity          0.2880      0.025     11.489      0.000       0.239       0.337\n",
      "number_of_photos         0.0157      0.002      6.927      0.000       0.011       0.020\n",
      "duration_listed          0.0004      0.000      3.078      0.002       0.000       0.001\n",
      "==============================================================================\n",
      "Omnibus:                       54.493   Durbin-Watson:                   1.641\n",
      "Prob(Omnibus):                  0.000   Jarque-Bera (JB):               89.885\n",
      "Skew:                          -0.420   Prob(JB):                     3.03e-20\n",
      "Kurtosis:                       4.205   Cond. No.                     7.34e+07\n",
      "==============================================================================\n",
      "\n",
      "Notes:\n",
      "[1] Standard Errors assume that the covariance matrix of the errors is correctly specified.\n",
      "[2] The condition number is large, 7.34e+07. This might indicate that there are\n",
      "strong multicollinearity or other numerical problems.\n"
     ]
    }
   ],
   "source": [
    "df1 = df.copy()\n",
    "\n",
    "df1['price_usd'] = df1['price_usd'].apply(lambda x: np.log1p(x)) #логарифмированный Y \n",
    "df1 = df1.rename(columns = {\"price_usd\" : \"log_price_usd\"})\n",
    "\n",
    "model2 = ols(\n",
    "    \"log_price_usd ~ odometer_value + year_produced + engine_capacity + number_of_photos + duration_listed + transmission + engine_type + has_warranty + is_exchangeable\", \n",
    "            df1).fit()\n",
    "\n",
    "print(model2.summary())"
   ]
  },
  {
   "cell_type": "code",
   "execution_count": 45,
   "id": "60ebce66",
   "metadata": {},
   "outputs": [
    {
     "name": "stdout",
     "output_type": "stream",
     "text": [
      "RSS линейной модели: 11274168792.050869\n",
      "RSS полулогарифмической модели: 192.57659107402148\n"
     ]
    }
   ],
   "source": [
    "rss1 = model1.ssr\n",
    "rss2 = model2.ssr\n",
    "\n",
    "print(\"RSS линейной модели:\", rss1)\n",
    "print(\"RSS полулогарифмической модели:\", rss2)"
   ]
  },
  {
   "cell_type": "markdown",
   "id": "4575afeb",
   "metadata": {},
   "source": [
    "Видим, что у полулогарифмической модели гораздо меньше RSS, и выше $R^2$. Значит, будем использовать полулогарифмическую модель."
   ]
  },
  {
   "cell_type": "markdown",
   "id": "a6278d38",
   "metadata": {},
   "source": [
    "Теперь сравним также полулогарифмическую модель с логарифмической моделью:"
   ]
  },
  {
   "cell_type": "markdown",
   "id": "574983ba",
   "metadata": {},
   "source": [
    "### Логарифмическая модель:"
   ]
  },
  {
   "cell_type": "code",
   "execution_count": 74,
   "id": "2af6a074",
   "metadata": {},
   "outputs": [
    {
     "name": "stdout",
     "output_type": "stream",
     "text": [
      "                            OLS Regression Results                            \n",
      "==============================================================================\n",
      "Dep. Variable:      all_log_price_usd   R-squared:                       0.752\n",
      "Model:                            OLS   Adj. R-squared:                  0.749\n",
      "Method:                 Least Squares   F-statistic:                     332.7\n",
      "Date:                Sun, 11 Dec 2022   Prob (F-statistic):          3.92e-292\n",
      "Time:                        23:06:17   Log-Likelihood:                -600.77\n",
      "No. Observations:                1000   AIC:                             1222.\n",
      "Df Residuals:                     990   BIC:                             1271.\n",
      "Df Model:                           9                                         \n",
      "Covariance Type:            nonrobust                                         \n",
      "========================================================================================\n",
      "                           coef    std err          t      P>|t|      [0.025      0.975]\n",
      "----------------------------------------------------------------------------------------\n",
      "Intercept            -1436.8842     32.169    -44.666      0.000   -1500.012   -1373.756\n",
      "transmission[T.1]       -0.1683      0.033     -5.149      0.000      -0.232      -0.104\n",
      "engine_type[T.1]        -0.2509      0.049     -5.109      0.000      -0.347      -0.155\n",
      "has_warranty[T.1]        0.1222      0.138      0.887      0.375      -0.148       0.393\n",
      "is_exchangeable[T.1]    -0.0346      0.030     -1.171      0.242      -0.093       0.023\n",
      "log_odometer_value      -0.0106      0.011     -0.965      0.335      -0.032       0.011\n",
      "log_year_produced      189.9079      4.223     44.971      0.000     181.621     198.195\n",
      "log_engine_capacity      1.0205      0.091     11.241      0.000       0.842       1.199\n",
      "log_number_of_photos     0.1784      0.025      7.187      0.000       0.130       0.227\n",
      "log_duration_listed      0.0347      0.012      2.936      0.003       0.012       0.058\n",
      "==============================================================================\n",
      "Omnibus:                       45.074   Durbin-Watson:                   1.712\n",
      "Prob(Omnibus):                  0.000   Jarque-Bera (JB):               86.996\n",
      "Skew:                          -0.305   Prob(JB):                     1.29e-19\n",
      "Kurtosis:                       4.310   Cond. No.                     3.43e+04\n",
      "==============================================================================\n",
      "\n",
      "Notes:\n",
      "[1] Standard Errors assume that the covariance matrix of the errors is correctly specified.\n",
      "[2] The condition number is large, 3.43e+04. This might indicate that there are\n",
      "strong multicollinearity or other numerical problems.\n"
     ]
    }
   ],
   "source": [
    "df2 = df.copy()\n",
    "\n",
    "df2[(df2[\"odometer_value\"] == 0) | (df2[\"duration_listed\"] == 0)] #есть нулевые значения => используем log(1 + x)\n",
    "\n",
    "df2[['odometer_value', 'year_produced', 'engine_capacity','number_of_photos', 'duration_listed', \"price_usd\"]] = df2[\n",
    "    ['odometer_value', 'year_produced', 'engine_capacity','number_of_photos', 'duration_listed', \"price_usd\"]].apply(\n",
    "    lambda x: np.log1p(x))\n",
    "\n",
    "df2 = df2.rename(columns = {\"price_usd\" : \"all_log_price_usd\",\n",
    "                           \"odometer_value\" : \"log_odometer_value\",\n",
    "                           \"year_produced\" : \"log_year_produced\",\n",
    "                           \"engine_capacity\" : \"log_engine_capacity\",\n",
    "                           \"number_of_photos\" : \"log_number_of_photos\",\n",
    "                           \"duration_listed\" : \"log_duration_listed\"})\n",
    "\n",
    "model3 = ols(\n",
    "    \"all_log_price_usd ~ log_odometer_value + log_year_produced + log_engine_capacity + log_number_of_photos + log_duration_listed + transmission + engine_type + has_warranty + is_exchangeable\", \n",
    "            df2).fit()\n",
    "\n",
    "print(model3.summary())"
   ]
  },
  {
   "cell_type": "code",
   "execution_count": 47,
   "id": "badb2dc7",
   "metadata": {},
   "outputs": [
    {
     "data": {
      "text/plain": [
       "0.7492788563225247"
      ]
     },
     "execution_count": 47,
     "metadata": {},
     "output_type": "execute_result"
    }
   ],
   "source": [
    "model3.rsquared_adj"
   ]
  },
  {
   "cell_type": "code",
   "execution_count": 48,
   "id": "958f545c",
   "metadata": {},
   "outputs": [
    {
     "data": {
      "text/plain": [
       "0.7520021167986208"
      ]
     },
     "execution_count": 48,
     "metadata": {},
     "output_type": "execute_result"
    }
   ],
   "source": [
    "model2.rsquared_adj"
   ]
  },
  {
   "cell_type": "markdown",
   "id": "1a9715d2",
   "metadata": {},
   "source": [
    "Мы видим, что $R^2_{adj} = 0.749$ для *логарифмической* модели, тогда как у *полулогарифмической* он равен 0.752. Различие не слишком большое, однако для полулогарифмической модели он больше, поэтому будем использовать её. \n",
    "\n",
    "Помимо сравнения $R^2$, можно можно сказать, что полулогарифмическая модель выдала более правильные результаты, так как значение p_value у коэффициента `odometer_value` в логорифмической модели оказался незначим, хотя по логике - это один из важнейших показателей цены. P_value в логорифмической модели равен 0.335, что делает коэффициент незначимым при любом разумном уровне значимости."
   ]
  },
  {
   "cell_type": "code",
   "execution_count": 49,
   "id": "94ad2271",
   "metadata": {},
   "outputs": [],
   "source": [
    "df1.to_csv('log_data.csv') #датасет с логарифмированным Y"
   ]
  },
  {
   "cell_type": "code",
   "execution_count": 50,
   "id": "0422bf9e",
   "metadata": {},
   "outputs": [
    {
     "data": {
      "text/html": [
       "<div>\n",
       "<style scoped>\n",
       "    .dataframe tbody tr th:only-of-type {\n",
       "        vertical-align: middle;\n",
       "    }\n",
       "\n",
       "    .dataframe tbody tr th {\n",
       "        vertical-align: top;\n",
       "    }\n",
       "\n",
       "    .dataframe thead th {\n",
       "        text-align: right;\n",
       "    }\n",
       "</style>\n",
       "<table border=\"1\" class=\"dataframe\">\n",
       "  <thead>\n",
       "    <tr style=\"text-align: right;\">\n",
       "      <th></th>\n",
       "      <th>odometer_value</th>\n",
       "      <th>year_produced</th>\n",
       "      <th>engine_capacity</th>\n",
       "      <th>number_of_photos</th>\n",
       "      <th>duration_listed</th>\n",
       "      <th>transmission</th>\n",
       "      <th>engine_type</th>\n",
       "      <th>engine_fuel</th>\n",
       "      <th>has_warranty</th>\n",
       "      <th>is_exchangeable</th>\n",
       "      <th>log_price_usd</th>\n",
       "    </tr>\n",
       "  </thead>\n",
       "  <tbody>\n",
       "    <tr>\n",
       "      <th>0</th>\n",
       "      <td>190000</td>\n",
       "      <td>2010</td>\n",
       "      <td>2.5</td>\n",
       "      <td>9</td>\n",
       "      <td>16</td>\n",
       "      <td>0</td>\n",
       "      <td>1</td>\n",
       "      <td>1</td>\n",
       "      <td>0</td>\n",
       "      <td>0</td>\n",
       "      <td>9.296610</td>\n",
       "    </tr>\n",
       "    <tr>\n",
       "      <th>1</th>\n",
       "      <td>290000</td>\n",
       "      <td>2002</td>\n",
       "      <td>3.0</td>\n",
       "      <td>12</td>\n",
       "      <td>83</td>\n",
       "      <td>0</td>\n",
       "      <td>1</td>\n",
       "      <td>1</td>\n",
       "      <td>0</td>\n",
       "      <td>1</td>\n",
       "      <td>8.517393</td>\n",
       "    </tr>\n",
       "    <tr>\n",
       "      <th>2</th>\n",
       "      <td>402000</td>\n",
       "      <td>2001</td>\n",
       "      <td>2.5</td>\n",
       "      <td>4</td>\n",
       "      <td>151</td>\n",
       "      <td>0</td>\n",
       "      <td>1</td>\n",
       "      <td>1</td>\n",
       "      <td>0</td>\n",
       "      <td>1</td>\n",
       "      <td>7.937732</td>\n",
       "    </tr>\n",
       "    <tr>\n",
       "      <th>3</th>\n",
       "      <td>10000</td>\n",
       "      <td>1999</td>\n",
       "      <td>3.0</td>\n",
       "      <td>9</td>\n",
       "      <td>86</td>\n",
       "      <td>1</td>\n",
       "      <td>1</td>\n",
       "      <td>1</td>\n",
       "      <td>0</td>\n",
       "      <td>1</td>\n",
       "      <td>9.210340</td>\n",
       "    </tr>\n",
       "    <tr>\n",
       "      <th>4</th>\n",
       "      <td>280000</td>\n",
       "      <td>2001</td>\n",
       "      <td>2.5</td>\n",
       "      <td>14</td>\n",
       "      <td>7</td>\n",
       "      <td>0</td>\n",
       "      <td>1</td>\n",
       "      <td>1</td>\n",
       "      <td>0</td>\n",
       "      <td>1</td>\n",
       "      <td>7.666273</td>\n",
       "    </tr>\n",
       "  </tbody>\n",
       "</table>\n",
       "</div>"
      ],
      "text/plain": [
       "   odometer_value  year_produced  engine_capacity  number_of_photos  \\\n",
       "0          190000           2010              2.5                 9   \n",
       "1          290000           2002              3.0                12   \n",
       "2          402000           2001              2.5                 4   \n",
       "3           10000           1999              3.0                 9   \n",
       "4          280000           2001              2.5                14   \n",
       "\n",
       "   duration_listed transmission engine_type engine_fuel has_warranty  \\\n",
       "0               16            0           1           1            0   \n",
       "1               83            0           1           1            0   \n",
       "2              151            0           1           1            0   \n",
       "3               86            1           1           1            0   \n",
       "4                7            0           1           1            0   \n",
       "\n",
       "  is_exchangeable  log_price_usd  \n",
       "0               0       9.296610  \n",
       "1               1       8.517393  \n",
       "2               1       7.937732  \n",
       "3               1       9.210340  \n",
       "4               1       7.666273  "
      ]
     },
     "execution_count": 50,
     "metadata": {},
     "output_type": "execute_result"
    }
   ],
   "source": [
    "df1.head()"
   ]
  },
  {
   "cell_type": "code",
   "execution_count": 51,
   "id": "0b8af4bd",
   "metadata": {},
   "outputs": [
    {
     "data": {
      "text/plain": [
       "Intercept              -1.719542e+02\n",
       "transmission[T.1]      -2.119049e-01\n",
       "engine_type[T.1]       -2.823693e-01\n",
       "has_warranty[T.1]       6.775034e-02\n",
       "is_exchangeable[T.1]   -4.273664e-02\n",
       "odometer_value         -5.645603e-07\n",
       "year_produced           8.978861e-02\n",
       "engine_capacity         2.880159e-01\n",
       "number_of_photos        1.571840e-02\n",
       "duration_listed         3.852930e-04\n",
       "dtype: float64"
      ]
     },
     "execution_count": 51,
     "metadata": {},
     "output_type": "execute_result"
    }
   ],
   "source": [
    "model2.params #параметры полулогарифмической модели"
   ]
  },
  {
   "cell_type": "markdown",
   "id": "0f4eb38d",
   "metadata": {},
   "source": [
    "Однако мы видим, что 2 коэффициента получились незначимы в полулогарифмической модели - это `is_exchangeable` и `has_warranty`,\n",
    "так как они имеют p-value больше любого разумного уровня значимости. Попробуем выбросить эти переменные из модели:"
   ]
  },
  {
   "cell_type": "code",
   "execution_count": 54,
   "id": "70032096",
   "metadata": {},
   "outputs": [
    {
     "name": "stdout",
     "output_type": "stream",
     "text": [
      "                            OLS Regression Results                            \n",
      "==============================================================================\n",
      "Dep. Variable:          log_price_usd   R-squared:                       0.754\n",
      "Model:                            OLS   Adj. R-squared:                  0.752\n",
      "Method:                 Least Squares   F-statistic:                     433.5\n",
      "Date:                Sun, 11 Dec 2022   Prob (F-statistic):          1.34e-296\n",
      "Time:                        20:31:58   Log-Likelihood:                -596.51\n",
      "No. Observations:                1000   AIC:                             1209.\n",
      "Df Residuals:                     992   BIC:                             1248.\n",
      "Df Model:                           7                                         \n",
      "Covariance Type:            nonrobust                                         \n",
      "=====================================================================================\n",
      "                        coef    std err          t      P>|t|      [0.025      0.975]\n",
      "-------------------------------------------------------------------------------------\n",
      "Intercept          -173.2449      4.462    -38.822      0.000    -182.002    -164.488\n",
      "transmission[T.1]    -0.2111      0.032     -6.560      0.000      -0.274      -0.148\n",
      "engine_type[T.1]     -0.2797      0.049     -5.718      0.000      -0.376      -0.184\n",
      "odometer_value    -5.661e-07   1.36e-07     -4.171      0.000   -8.33e-07      -3e-07\n",
      "year_produced         0.0904      0.002     40.867      0.000       0.086       0.095\n",
      "engine_capacity       0.2879      0.025     11.485      0.000       0.239       0.337\n",
      "number_of_photos      0.0152      0.002      6.772      0.000       0.011       0.020\n",
      "duration_listed       0.0004      0.000      3.009      0.003       0.000       0.001\n",
      "==============================================================================\n",
      "Omnibus:                       54.793   Durbin-Watson:                   1.642\n",
      "Prob(Omnibus):                  0.000   Jarque-Bera (JB):               91.814\n",
      "Skew:                          -0.416   Prob(JB):                     1.16e-20\n",
      "Kurtosis:                       4.229   Cond. No.                     7.20e+07\n",
      "==============================================================================\n",
      "\n",
      "Notes:\n",
      "[1] Standard Errors assume that the covariance matrix of the errors is correctly specified.\n",
      "[2] The condition number is large, 7.2e+07. This might indicate that there are\n",
      "strong multicollinearity or other numerical problems.\n"
     ]
    }
   ],
   "source": [
    "model4 = ols(\n",
    "    \"log_price_usd ~ odometer_value + year_produced + engine_capacity + number_of_photos + duration_listed + transmission + engine_type\", \n",
    "            df1).fit()\n",
    "\n",
    "print(model4.summary())"
   ]
  },
  {
   "cell_type": "code",
   "execution_count": 80,
   "id": "58e4949d",
   "metadata": {},
   "outputs": [
    {
     "data": {
      "text/plain": [
       "Intercept           -1.732449e+02\n",
       "transmission[T.1]   -2.111327e-01\n",
       "engine_type[T.1]    -2.796773e-01\n",
       "odometer_value      -5.661304e-07\n",
       "year_produced        9.042613e-02\n",
       "engine_capacity      2.878819e-01\n",
       "number_of_photos     1.518168e-02\n",
       "duration_listed      3.761785e-04\n",
       "dtype: float64"
      ]
     },
     "execution_count": 80,
     "metadata": {},
     "output_type": "execute_result"
    }
   ],
   "source": [
    "model4.params #параметры бета модели"
   ]
  },
  {
   "cell_type": "markdown",
   "id": "7747bde6",
   "metadata": {},
   "source": [
    "Мы получили модель в которой все коэффициенты оказываются значимы, и при этом $R^2$ не меняется"
   ]
  },
  {
   "cell_type": "markdown",
   "id": "07081c28",
   "metadata": {},
   "source": [
    "В полулогарифмической модели при изменении Х на единицу - > Y меняется на beta*100%\n",
    " \n",
    "Видим еще, что зависмость коэффициента при значении пробега отрицательна, что является интуитивно логичным и верным. Это означает, что чем выше пробег автомобиля, тем ниже цена на него. То есть при увеличении пробега на 1 км, цена автомобиля падает на $-5.661*10^{-7}$ долларов.\n",
    "\n",
    "Также мы видим, что при увеличении объема двигателя на 1 литр, цена машины возрастает на 28% - это неожиданный результат модели.\n",
    "\n",
    "Также модель показала, что при увеличении возраста машины на 1 год, ее стоимость увеличивается на 9% - скорее всего модель подстроилась под выбросы, и учитывает дорогие и старые ретро машины, которые мы заметили в предыдущих пунктах.\n",
    " \n",
    "Видим, что при увеличении кол-ва дней, которое висит объявление цена машины увеличивается всего на 0.037% - можно сказать, что цена не увеличивается от того, насколько долго висит объявление, что в принципе является логичным выводом.\n",
    "\n",
    "Видим также, что цена автомобиля увеличивается на 1.5% при увеличении кол-ва фото на 1 шт. Также видим, что цена меняется не слишком сильно от такого показателя, но все такие интересно, что количество фото более влияет на цену машины, чем срок, который провисело объявление.\n",
    "\n",
    "При отсутствии других факторов цена на машину с бензиновым двигателем будет меньше на 0,21% чем цена на машину с дизелем, что подтверждаются реальностью - дизельные машины дороже.\n",
    "И цена на машину с автоматической коробкой передач тоже будет как правило дороже на 21% чем на машину с механикой, что тоже в принципе объяснимо."
   ]
  },
  {
   "cell_type": "markdown",
   "id": "cbffc50e",
   "metadata": {},
   "source": [
    "# Вывод:"
   ]
  },
  {
   "cell_type": "markdown",
   "id": "2be3bb6c",
   "metadata": {},
   "source": [
    "В данном исследовании мы проанализировали влияние показателей  характеристик автомобиля в объявлениях на его цену продажи. Рассчитав данные разных моделей мы подобрали модель с наибольшим R^2, всеми значимыми переменными. Из всех дамми переменных, мы определили, что важно смотреть на то, какой тип двигателя (топливо) у автомобиля и какая коробка передач.\n",
    "\n",
    "В принципе все интерпретации получились адекватными, за исключением возраста машины, скорее всего модель подстроилась под выбросы на данной переменной."
   ]
  },
  {
   "cell_type": "code",
   "execution_count": null,
   "id": "3cbe0e2d",
   "metadata": {},
   "outputs": [],
   "source": []
  }
 ],
 "metadata": {
  "kernelspec": {
   "display_name": "Python 3 (ipykernel)",
   "language": "python",
   "name": "python3"
  },
  "language_info": {
   "codemirror_mode": {
    "name": "ipython",
    "version": 3
   },
   "file_extension": ".py",
   "mimetype": "text/x-python",
   "name": "python",
   "nbconvert_exporter": "python",
   "pygments_lexer": "ipython3",
   "version": "3.9.12"
  }
 },
 "nbformat": 4,
 "nbformat_minor": 5
}
